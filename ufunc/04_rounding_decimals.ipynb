{
 "cells": [
  {
   "cell_type": "markdown",
   "id": "f112cdd1",
   "metadata": {},
   "source": [
    "### Rounding Decimals\n",
    "\n",
    "There are primarily five ways of rounding off decimals in NumPy:\n",
    "\n",
    "   1. truncation\n",
    "   2. fix\n",
    "   3. rounding\n",
    "   4. floor\n",
    "   5. ceil"
   ]
  },
  {
   "cell_type": "code",
   "execution_count": 1,
   "id": "8fbc56a4",
   "metadata": {},
   "outputs": [],
   "source": [
    "import numpy as np"
   ]
  },
  {
   "cell_type": "markdown",
   "id": "f7909eed",
   "metadata": {},
   "source": [
    "### trunc()\n",
    "\n",
    "Remove the decimals, and return the float number closest to zero. Use the `trunc()` and `fix()` functions"
   ]
  },
  {
   "cell_type": "code",
   "execution_count": 4,
   "id": "111bf8e1",
   "metadata": {},
   "outputs": [
    {
     "data": {
      "text/plain": [
       "array([-3.,  6.])"
      ]
     },
     "execution_count": 4,
     "metadata": {},
     "output_type": "execute_result"
    }
   ],
   "source": [
    "np.trunc([-3.123, 6.23123])"
   ]
  },
  {
   "cell_type": "code",
   "execution_count": 6,
   "id": "3d31b119",
   "metadata": {},
   "outputs": [
    {
     "data": {
      "text/plain": [
       "array([-3.,  6.])"
      ]
     },
     "execution_count": 6,
     "metadata": {},
     "output_type": "execute_result"
    }
   ],
   "source": [
    "np.fix([-3.123, 6.23123])"
   ]
  },
  {
   "cell_type": "markdown",
   "id": "f1120d88",
   "metadata": {},
   "source": [
    "### Rounding\n",
    "\n",
    "The `around()` function increments preceding digit or decimal by 1 if >=5 else do nothing.\n",
    "\n",
    "E.g. round off to 1 decimal point, 3.16666 is 3.2"
   ]
  },
  {
   "cell_type": "code",
   "execution_count": 8,
   "id": "b7d4f820",
   "metadata": {},
   "outputs": [
    {
     "data": {
      "text/plain": [
       "-3.924"
      ]
     },
     "execution_count": 8,
     "metadata": {},
     "output_type": "execute_result"
    }
   ],
   "source": [
    "np.around(-3.92390123, 3)"
   ]
  },
  {
   "cell_type": "code",
   "execution_count": 10,
   "id": "950c9324",
   "metadata": {},
   "outputs": [
    {
     "data": {
      "text/plain": [
       "2.39204"
      ]
     },
     "execution_count": 10,
     "metadata": {},
     "output_type": "execute_result"
    }
   ],
   "source": [
    "np.around(2.392043892398342, 5)"
   ]
  },
  {
   "cell_type": "markdown",
   "id": "2256ce50",
   "metadata": {},
   "source": [
    "### Floor\n",
    "\n",
    "The `floor()` function rounds off decimal to nearest lower integer.\n",
    "\n",
    "E.g. floor of 3.166 is 3."
   ]
  },
  {
   "cell_type": "code",
   "execution_count": 12,
   "id": "137170df",
   "metadata": {},
   "outputs": [
    {
     "data": {
      "text/plain": [
       "49.0"
      ]
     },
     "execution_count": 12,
     "metadata": {},
     "output_type": "execute_result"
    }
   ],
   "source": [
    "np.floor(49.39204)"
   ]
  },
  {
   "cell_type": "code",
   "execution_count": 14,
   "id": "e1218ac9",
   "metadata": {},
   "outputs": [
    {
     "data": {
      "text/plain": [
       "49.0"
      ]
     },
     "execution_count": 14,
     "metadata": {},
     "output_type": "execute_result"
    }
   ],
   "source": [
    "np.floor(49.99)"
   ]
  },
  {
   "cell_type": "markdown",
   "id": "8634a591",
   "metadata": {},
   "source": [
    "### Ceil\n",
    "\n",
    "The `ceil()` function rounds off decimal to nearest upper integer.\n",
    "\n",
    "E.g. ceil of 3.166 is 4."
   ]
  },
  {
   "cell_type": "code",
   "execution_count": 17,
   "id": "fb44bf5e",
   "metadata": {},
   "outputs": [
    {
     "data": {
      "text/plain": [
       "50.0"
      ]
     },
     "execution_count": 17,
     "metadata": {},
     "output_type": "execute_result"
    }
   ],
   "source": [
    "np.ceil(49.00001)"
   ]
  },
  {
   "cell_type": "code",
   "execution_count": 18,
   "id": "bea23849",
   "metadata": {},
   "outputs": [
    {
     "data": {
      "text/plain": [
       "91.0"
      ]
     },
     "execution_count": 18,
     "metadata": {},
     "output_type": "execute_result"
    }
   ],
   "source": [
    "np.ceil(90.9999)"
   ]
  }
 ],
 "metadata": {
  "kernelspec": {
   "display_name": "Python 3 (ipykernel)",
   "language": "python",
   "name": "python3"
  },
  "language_info": {
   "codemirror_mode": {
    "name": "ipython",
    "version": 3
   },
   "file_extension": ".py",
   "mimetype": "text/x-python",
   "name": "python",
   "nbconvert_exporter": "python",
   "pygments_lexer": "ipython3",
   "version": "3.11.3"
  }
 },
 "nbformat": 4,
 "nbformat_minor": 5
}
