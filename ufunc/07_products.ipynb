{
 "cells": [
  {
   "cell_type": "code",
   "execution_count": 1,
   "id": "b563a060",
   "metadata": {},
   "outputs": [],
   "source": [
    "import numpy as np"
   ]
  },
  {
   "cell_type": "code",
   "execution_count": 3,
   "id": "ef875dad",
   "metadata": {},
   "outputs": [
    {
     "data": {
      "text/plain": [
       "11904"
      ]
     },
     "execution_count": 3,
     "metadata": {},
     "output_type": "execute_result"
    }
   ],
   "source": [
    "np.prod([12, 31, 32])"
   ]
  },
  {
   "cell_type": "code",
   "execution_count": 5,
   "id": "be303582",
   "metadata": {},
   "outputs": [
    {
     "data": {
      "text/plain": [
       "27641088"
      ]
     },
     "execution_count": 5,
     "metadata": {},
     "output_type": "execute_result"
    }
   ],
   "source": [
    "np.prod([[12, 12, 31], [12, 12, 43]])"
   ]
  },
  {
   "cell_type": "code",
   "execution_count": 7,
   "id": "1b858b60",
   "metadata": {},
   "outputs": [
    {
     "data": {
      "text/plain": [
       "array([4464, 6192])"
      ]
     },
     "execution_count": 7,
     "metadata": {},
     "output_type": "execute_result"
    }
   ],
   "source": [
    "np.prod([[12, 12, 31], [12, 12, 43]], axis=1)"
   ]
  },
  {
   "cell_type": "code",
   "execution_count": 9,
   "id": "3f6b81b7",
   "metadata": {},
   "outputs": [
    {
     "data": {
      "text/plain": [
       "array([      12,      144,     4464,    53568,   642816, 27641088])"
      ]
     },
     "execution_count": 9,
     "metadata": {},
     "output_type": "execute_result"
    }
   ],
   "source": [
    "np.cumprod([[12, 12, 31], [12, 12, 43]])"
   ]
  },
  {
   "cell_type": "code",
   "execution_count": 10,
   "id": "6eed3313",
   "metadata": {},
   "outputs": [
    {
     "data": {
      "text/plain": [
       "array([[  12,  144, 4464],\n",
       "       [  12,  144, 6192]])"
      ]
     },
     "execution_count": 10,
     "metadata": {},
     "output_type": "execute_result"
    }
   ],
   "source": [
    "np.cumprod([[12, 12, 31], [12, 12, 43]], axis=1)"
   ]
  }
 ],
 "metadata": {
  "kernelspec": {
   "display_name": "Python 3 (ipykernel)",
   "language": "python",
   "name": "python3"
  },
  "language_info": {
   "codemirror_mode": {
    "name": "ipython",
    "version": 3
   },
   "file_extension": ".py",
   "mimetype": "text/x-python",
   "name": "python",
   "nbconvert_exporter": "python",
   "pygments_lexer": "ipython3",
   "version": "3.11.3"
  }
 },
 "nbformat": 4,
 "nbformat_minor": 5
}
