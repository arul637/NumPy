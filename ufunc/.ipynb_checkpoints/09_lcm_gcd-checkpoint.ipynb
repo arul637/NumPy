{
 "cells": [
  {
   "cell_type": "code",
   "execution_count": 2,
   "id": "da9be356",
   "metadata": {},
   "outputs": [],
   "source": [
    "import numpy as np"
   ]
  },
  {
   "cell_type": "code",
   "execution_count": 4,
   "id": "7426fd0f",
   "metadata": {},
   "outputs": [
    {
     "data": {
      "text/plain": [
       "100"
      ]
     },
     "execution_count": 4,
     "metadata": {},
     "output_type": "execute_result"
    }
   ],
   "source": [
    "np.lcm(10, 100)"
   ]
  },
  {
   "cell_type": "code",
   "execution_count": 6,
   "id": "d1f45693",
   "metadata": {},
   "outputs": [
    {
     "data": {
      "text/plain": [
       "8195310"
      ]
     },
     "execution_count": 6,
     "metadata": {},
     "output_type": "execute_result"
    }
   ],
   "source": [
    "np.lcm(34290, 239)"
   ]
  },
  {
   "cell_type": "code",
   "execution_count": 8,
   "id": "10bd41b6",
   "metadata": {},
   "outputs": [
    {
     "data": {
      "text/plain": [
       "301195752"
      ]
     },
     "execution_count": 8,
     "metadata": {},
     "output_type": "execute_result"
    }
   ],
   "source": [
    "np.lcm.reduce([1023, 11324, 312])"
   ]
  },
  {
   "cell_type": "code",
   "execution_count": 9,
   "id": "ed8bf364",
   "metadata": {},
   "outputs": [
    {
     "data": {
      "text/plain": [
       "10"
      ]
     },
     "execution_count": 9,
     "metadata": {},
     "output_type": "execute_result"
    }
   ],
   "source": [
    "np.gcd(10, 100)"
   ]
  },
  {
   "cell_type": "code",
   "execution_count": 10,
   "id": "1d2cf037",
   "metadata": {},
   "outputs": [
    {
     "data": {
      "text/plain": [
       "1"
      ]
     },
     "execution_count": 10,
     "metadata": {},
     "output_type": "execute_result"
    }
   ],
   "source": [
    "np.gcd(34290, 239)"
   ]
  },
  {
   "cell_type": "code",
   "execution_count": 11,
   "id": "0097562d",
   "metadata": {},
   "outputs": [
    {
     "data": {
      "text/plain": [
       "1"
      ]
     },
     "execution_count": 11,
     "metadata": {},
     "output_type": "execute_result"
    }
   ],
   "source": [
    "np.gcd.reduce([1023, 11324, 312])"
   ]
  },
  {
   "cell_type": "code",
   "execution_count": null,
   "id": "8c7d1e41",
   "metadata": {},
   "outputs": [],
   "source": []
  }
 ],
 "metadata": {
  "kernelspec": {
   "display_name": "Python 3 (ipykernel)",
   "language": "python",
   "name": "python3"
  },
  "language_info": {
   "codemirror_mode": {
    "name": "ipython",
    "version": 3
   },
   "file_extension": ".py",
   "mimetype": "text/x-python",
   "name": "python",
   "nbconvert_exporter": "python",
   "pygments_lexer": "ipython3",
   "version": "3.11.3"
  }
 },
 "nbformat": 4,
 "nbformat_minor": 5
}
