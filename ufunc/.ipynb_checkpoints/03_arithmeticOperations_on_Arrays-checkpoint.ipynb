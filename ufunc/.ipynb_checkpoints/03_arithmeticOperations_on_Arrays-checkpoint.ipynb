{
 "cells": [
  {
   "cell_type": "markdown",
   "id": "a667eace",
   "metadata": {},
   "source": [
    "### Simple Arithmetic\n",
    "\n",
    "You could use arithmetic operators `+` `-` `*` `/` directly between NumPy arrays, but this section discusses an extension of the same where we have functions that can take any array-like objects e.g. lists, tuples etc. and perform arithmetic conditionally."
   ]
  },
  {
   "cell_type": "code",
   "execution_count": 13,
   "id": "ab80fd9a",
   "metadata": {},
   "outputs": [],
   "source": [
    "# importing the modules\n",
    "import numpy as np\n",
    "\n",
    "# creating the two arrays\n",
    "arr1 = np.array([15, 13, 8, 30, 20, 32])\n",
    "arr2 = np.array([61, 96, 63, 93, 20, 42])"
   ]
  },
  {
   "cell_type": "code",
   "execution_count": 2,
   "id": "e88f2eb8",
   "metadata": {},
   "outputs": [
    {
     "data": {
      "text/plain": [
       "array([ 76, 109,  71, 123,  40,  74])"
      ]
     },
     "execution_count": 2,
     "metadata": {},
     "output_type": "execute_result"
    }
   ],
   "source": [
    "np.add(arr1, arr2)"
   ]
  },
  {
   "cell_type": "code",
   "execution_count": 3,
   "id": "1164634f",
   "metadata": {},
   "outputs": [
    {
     "data": {
      "text/plain": [
       "array([-46, -83, -55, -63,   0, -10])"
      ]
     },
     "execution_count": 3,
     "metadata": {},
     "output_type": "execute_result"
    }
   ],
   "source": [
    "np.subtract(arr1, arr2)"
   ]
  },
  {
   "cell_type": "code",
   "execution_count": 4,
   "id": "12cee085",
   "metadata": {},
   "outputs": [
    {
     "data": {
      "text/plain": [
       "array([ 915, 1248,  504, 2790,  400, 1344])"
      ]
     },
     "execution_count": 4,
     "metadata": {},
     "output_type": "execute_result"
    }
   ],
   "source": [
    "np.multiply(arr1, arr2)"
   ]
  },
  {
   "cell_type": "code",
   "execution_count": 5,
   "id": "6b8f8e91",
   "metadata": {},
   "outputs": [
    {
     "data": {
      "text/plain": [
       "array([0.24590164, 0.13541667, 0.12698413, 0.32258065, 1.        ,\n",
       "       0.76190476])"
      ]
     },
     "execution_count": 5,
     "metadata": {},
     "output_type": "execute_result"
    }
   ],
   "source": [
    "np.divide(arr1, arr2)"
   ]
  },
  {
   "cell_type": "code",
   "execution_count": 7,
   "id": "71aebe4b",
   "metadata": {},
   "outputs": [
    {
     "data": {
      "text/plain": [
       "array([ 1140014543, -1906587263,           0,           0,           0,\n",
       "                 0])"
      ]
     },
     "execution_count": 7,
     "metadata": {},
     "output_type": "execute_result"
    }
   ],
   "source": [
    "np.power(arr1, arr2)"
   ]
  },
  {
   "cell_type": "code",
   "execution_count": 10,
   "id": "26d2b99f",
   "metadata": {},
   "outputs": [
    {
     "data": {
      "text/plain": [
       "array([15, 13,  8, 30, 20, 32])"
      ]
     },
     "execution_count": 10,
     "metadata": {},
     "output_type": "execute_result"
    }
   ],
   "source": [
    "np.absolute(arr1)"
   ]
  },
  {
   "cell_type": "code",
   "execution_count": 14,
   "id": "e0068a67",
   "metadata": {},
   "outputs": [
    {
     "data": {
      "text/plain": [
       "array([61, 96, 63, 93, 20, 42])"
      ]
     },
     "execution_count": 14,
     "metadata": {},
     "output_type": "execute_result"
    }
   ],
   "source": [
    "np.absolute(arr2)"
   ]
  },
  {
   "cell_type": "code",
   "execution_count": 15,
   "id": "b28bee49",
   "metadata": {},
   "outputs": [
    {
     "data": {
      "text/plain": [
       "(array([0, 0, 0, 0, 1, 0]), array([15, 13,  8, 30,  0, 32]))"
      ]
     },
     "execution_count": 15,
     "metadata": {},
     "output_type": "execute_result"
    }
   ],
   "source": [
    "np.divmod(arr1, arr2)"
   ]
  },
  {
   "cell_type": "code",
   "execution_count": 16,
   "id": "40012554",
   "metadata": {},
   "outputs": [
    {
     "data": {
      "text/plain": [
       "array([15, 13,  8, 30,  0, 32])"
      ]
     },
     "execution_count": 16,
     "metadata": {},
     "output_type": "execute_result"
    }
   ],
   "source": [
    "np.mod(arr1, arr2)"
   ]
  },
  {
   "cell_type": "code",
   "execution_count": 17,
   "id": "5f83cb9a",
   "metadata": {},
   "outputs": [
    {
     "data": {
      "text/plain": [
       "array([15, 13,  8, 30,  0, 32])"
      ]
     },
     "execution_count": 17,
     "metadata": {},
     "output_type": "execute_result"
    }
   ],
   "source": [
    "np.remainder(arr1, arr2)"
   ]
  },
  {
   "cell_type": "code",
   "execution_count": null,
   "id": "d74fc7a8",
   "metadata": {},
   "outputs": [],
   "source": []
  }
 ],
 "metadata": {
  "kernelspec": {
   "display_name": "Python 3 (ipykernel)",
   "language": "python",
   "name": "python3"
  },
  "language_info": {
   "codemirror_mode": {
    "name": "ipython",
    "version": 3
   },
   "file_extension": ".py",
   "mimetype": "text/x-python",
   "name": "python",
   "nbconvert_exporter": "python",
   "pygments_lexer": "ipython3",
   "version": "3.11.3"
  }
 },
 "nbformat": 4,
 "nbformat_minor": 5
}
