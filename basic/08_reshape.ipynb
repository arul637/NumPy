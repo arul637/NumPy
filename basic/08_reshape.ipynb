{
 "cells": [
  {
   "cell_type": "markdown",
   "id": "e9fb9fa3",
   "metadata": {},
   "source": [
    "## Reshaping arrays\n",
    "\n",
    "* Reshaping means changing the shape of an array.\n",
    "* The shape of an array is the number of elements in each dimension.\n",
    "* By reshaping we can add or remove dimensions or change number of elements in each dimension."
   ]
  },
  {
   "cell_type": "code",
   "execution_count": 2,
   "id": "eddc1e7d",
   "metadata": {},
   "outputs": [],
   "source": [
    "# importing the modules\n",
    "import numpy as np\n",
    "\n",
    "# creating the array\n",
    "arr = np.array([1, 2, 3, 4, 5, 6, 7, 8, 9, 10, 11, 12])"
   ]
  },
  {
   "cell_type": "code",
   "execution_count": 3,
   "id": "7eb7aedf",
   "metadata": {},
   "outputs": [
    {
     "name": "stdout",
     "output_type": "stream",
     "text": [
      "arr.shape = (12,)\n",
      "arr.ndim = 1\n"
     ]
    }
   ],
   "source": [
    "print(f\"arr.shape = {arr.shape}\")\n",
    "print(f\"arr.ndim = {arr.ndim}\")"
   ]
  },
  {
   "cell_type": "markdown",
   "id": "b068cf82",
   "metadata": {},
   "source": [
    "### changing the 1D to 2D"
   ]
  },
  {
   "cell_type": "code",
   "execution_count": 4,
   "id": "57ee63ac",
   "metadata": {},
   "outputs": [
    {
     "name": "stdout",
     "output_type": "stream",
     "text": [
      "arr.reshape(2, 6) = [[ 1  2  3  4  5  6]\n",
      " [ 7  8  9 10 11 12]]\n"
     ]
    }
   ],
   "source": [
    "print(f\"arr.reshape(2, 6) = {arr.reshape(2, 6)}\")"
   ]
  },
  {
   "cell_type": "markdown",
   "id": "4d3b5b3a",
   "metadata": {},
   "source": [
    "### changing 1D to 3D "
   ]
  },
  {
   "cell_type": "code",
   "execution_count": 5,
   "id": "7c94c80b",
   "metadata": {},
   "outputs": [
    {
     "name": "stdout",
     "output_type": "stream",
     "text": [
      "arr.reshpe(2, 3, 2) = [[[ 1  2]\n",
      "  [ 3  4]\n",
      "  [ 5  6]]\n",
      "\n",
      " [[ 7  8]\n",
      "  [ 9 10]\n",
      "  [11 12]]]\n"
     ]
    }
   ],
   "source": [
    "print(f\"arr.reshpe(2, 3, 2) = {arr.reshape(2, 3, 2)}\")"
   ]
  },
  {
   "cell_type": "markdown",
   "id": "0b5ec69d",
   "metadata": {},
   "source": [
    "### checking it return the copy or view"
   ]
  },
  {
   "cell_type": "code",
   "execution_count": 7,
   "id": "db848d93",
   "metadata": {},
   "outputs": [
    {
     "name": "stdout",
     "output_type": "stream",
     "text": [
      "copy or view for arr.reshape(2, 6).base = [ 1  2  3  4  5  6  7  8  9 10 11 12]\n"
     ]
    }
   ],
   "source": [
    "print(f\"copy or view for arr.reshape(2, 6).base = {arr.reshape(2, 6).base}\")"
   ]
  },
  {
   "cell_type": "markdown",
   "id": "bd7e6513",
   "metadata": {},
   "source": [
    "so reshape will be considered as view"
   ]
  },
  {
   "cell_type": "markdown",
   "id": "0b6930a0",
   "metadata": {},
   "source": [
    "### unknown dimension"
   ]
  },
  {
   "cell_type": "code",
   "execution_count": 9,
   "id": "cdb322b3",
   "metadata": {},
   "outputs": [
    {
     "name": "stdout",
     "output_type": "stream",
     "text": [
      "[[[1]\n",
      "  [2]\n",
      "  [3]]\n",
      "\n",
      " [[4]\n",
      "  [5]\n",
      "  [6]]\n",
      "\n",
      " [[7]\n",
      "  [8]\n",
      "  [9]]]\n"
     ]
    }
   ],
   "source": [
    "arr = np.array([1, 2, 3, 4, 5, 6, 7, 8, 9])\n",
    "print(arr.reshape(3, 3, -1))"
   ]
  },
  {
   "cell_type": "markdown",
   "id": "bdbd06f4",
   "metadata": {},
   "source": [
    "### flattering the array\n",
    "\n",
    "*the **`any`** dimension array into **`1D`** array*"
   ]
  },
  {
   "cell_type": "code",
   "execution_count": 11,
   "id": "cfdb2809",
   "metadata": {},
   "outputs": [
    {
     "name": "stdout",
     "output_type": "stream",
     "text": [
      "arr = [[1 2 3 4 5]\n",
      " [6 7 8 9 0]]\n",
      "arr.reshape(-1) = [1 2 3 4 5 6 7 8 9 0]\n"
     ]
    }
   ],
   "source": [
    "arr = np.array([\n",
    "    [1,2,3,4,5],\n",
    "    [6,7,8,9,0]\n",
    "])\n",
    "print(f\"arr = {arr}\")\n",
    "print(f\"arr.reshape(-1) = {arr.reshape(-1)}\")"
   ]
  },
  {
   "cell_type": "code",
   "execution_count": null,
   "id": "ff615f11",
   "metadata": {},
   "outputs": [],
   "source": []
  }
 ],
 "metadata": {
  "kernelspec": {
   "display_name": "Python 3 (ipykernel)",
   "language": "python",
   "name": "python3"
  },
  "language_info": {
   "codemirror_mode": {
    "name": "ipython",
    "version": 3
   },
   "file_extension": ".py",
   "mimetype": "text/x-python",
   "name": "python",
   "nbconvert_exporter": "python",
   "pygments_lexer": "ipython3",
   "version": "3.11.3"
  }
 },
 "nbformat": 4,
 "nbformat_minor": 5
}
