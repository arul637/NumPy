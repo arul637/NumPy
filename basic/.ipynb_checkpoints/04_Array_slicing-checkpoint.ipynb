{
 "cells": [
  {
   "cell_type": "markdown",
   "id": "1d41dcf2",
   "metadata": {},
   "source": [
    "### Slicing arrays\n",
    "\n",
    "*Slicing in python means taking elements from one given index to another given index.*\n",
    "\n",
    "    1. We pass slice instead of index like this: [start:end].\n",
    "    2. We can also define the step, like this: [start:end:step].\n",
    "    3. If we don't pass start its considered 0\n",
    "    4. If we don't pass end its considered length of array in that dimension\n",
    "    5. If we don't pass step its considered 1"
   ]
  },
  {
   "cell_type": "code",
   "execution_count": 3,
   "id": "e431315a",
   "metadata": {},
   "outputs": [],
   "source": [
    "# importing the modules\n",
    "import numpy as np"
   ]
  },
  {
   "cell_type": "markdown",
   "id": "fb746654",
   "metadata": {},
   "source": [
    "## slicing in 1D Array"
   ]
  },
  {
   "cell_type": "code",
   "execution_count": 5,
   "id": "4219f354",
   "metadata": {},
   "outputs": [
    {
     "name": "stdout",
     "output_type": "stream",
     "text": [
      "arr[1 to 5] = [1 2 3 4 5]\n"
     ]
    }
   ],
   "source": [
    "# simple slicing\n",
    "\n",
    "arr = np.array([1, 2, 3, 4, 5, 6, 7, 8, 9, 0])\n",
    "print(f\"arr[1 to 5] = {arr[0:5]}\")"
   ]
  },
  {
   "cell_type": "markdown",
   "id": "a3af25d1",
   "metadata": {},
   "source": [
    "## slicing from specific position\n"
   ]
  },
  {
   "cell_type": "code",
   "execution_count": 7,
   "id": "a46e708f",
   "metadata": {},
   "outputs": [
    {
     "name": "stdout",
     "output_type": "stream",
     "text": [
      "arr[3 to 7] = [3 4 5 6 7]\n"
     ]
    }
   ],
   "source": [
    "arr = np.array([1, 2, 3, 4, 5, 6, 7, 8, 9, 0])\n",
    "print(f\"arr[3 to 7] = {arr[3-1:7]}\")"
   ]
  },
  {
   "cell_type": "markdown",
   "id": "e10bdfa4",
   "metadata": {},
   "source": [
    "if slicing is not give it will considered as 0 at beginning and step is considered as 1"
   ]
  },
  {
   "cell_type": "code",
   "execution_count": 9,
   "id": "0997d1d8",
   "metadata": {},
   "outputs": [
    {
     "name": "stdout",
     "output_type": "stream",
     "text": [
      "arr[:] = [1 2 3 4 5]\n"
     ]
    }
   ],
   "source": [
    "arr = np.array([1, 2, 3, 4, 5])\n",
    "print(f\"arr[:] = {arr[:]}\")"
   ]
  },
  {
   "cell_type": "markdown",
   "id": "7fbb31db",
   "metadata": {},
   "source": [
    "#### negative slicing"
   ]
  },
  {
   "cell_type": "code",
   "execution_count": 10,
   "id": "28822693",
   "metadata": {},
   "outputs": [
    {
     "name": "stdout",
     "output_type": "stream",
     "text": [
      "arr[-5 to -1] = [6 7 8 9]\n"
     ]
    }
   ],
   "source": [
    "arr = np.array([1, 2, 3, 4, 5, 6, 7, 8, 9, 0])\n",
    "print(f\"arr[-5 to -1] = {arr[-5:-1]}\")"
   ]
  },
  {
   "cell_type": "markdown",
   "id": "5db27cb6",
   "metadata": {},
   "source": [
    "#### Slicing using step argument"
   ]
  },
  {
   "cell_type": "code",
   "execution_count": 11,
   "id": "46454e05",
   "metadata": {},
   "outputs": [
    {
     "name": "stdout",
     "output_type": "stream",
     "text": [
      "arr[::2] = [1 3 5 7 9]\n"
     ]
    }
   ],
   "source": [
    "arr = np.array([1, 2, 3, 4, 5, 6, 7, 8, 9, 0])\n",
    "print(f\"arr[::2] = {arr[::2]}\")"
   ]
  },
  {
   "cell_type": "markdown",
   "id": "20a98121",
   "metadata": {},
   "source": [
    "## Slicing in 2D Array"
   ]
  },
  {
   "cell_type": "markdown",
   "id": "a103d002",
   "metadata": {},
   "source": [
    "[\n",
    "    [2, 4, 6],\n",
    "    [1, 3, 5]\n",
    "]\n",
    "arr[a, b]\n",
    "\n",
    "a --> index of array\n",
    "b --> slicing of array\n",
    "\n",
    "arr[1, 1:2]\n",
    "\n",
    "if a==1 then the array is [1, 3, 5] and b==[1:2], then from 1st array, slice 1 to 2 then result is 3"
   ]
  },
  {
   "cell_type": "code",
   "execution_count": 15,
   "id": "4eabd23a",
   "metadata": {},
   "outputs": [],
   "source": [
    "arr = np.array([\n",
    "    [1, 2, 3, 4, 5],\n",
    "    [6, 7, 8, 9, 0]\n",
    "])"
   ]
  },
  {
   "cell_type": "code",
   "execution_count": 16,
   "id": "101f50a6",
   "metadata": {},
   "outputs": [
    {
     "name": "stdout",
     "output_type": "stream",
     "text": [
      "arr[0, 1:3] = [2 3]\n"
     ]
    }
   ],
   "source": [
    "print(f\"arr[0, 1:3] = {arr[0, 1:3]}\")"
   ]
  },
  {
   "cell_type": "code",
   "execution_count": 17,
   "id": "4c3cf154",
   "metadata": {},
   "outputs": [
    {
     "name": "stdout",
     "output_type": "stream",
     "text": [
      "arr[1, 1:4] = [7 8 9]\n"
     ]
    }
   ],
   "source": [
    "print(f\"arr[1, 1:4] = {arr[1, 1:4]}\")"
   ]
  },
  {
   "cell_type": "code",
   "execution_count": 18,
   "id": "d3cf4bf3",
   "metadata": {},
   "outputs": [
    {
     "name": "stdout",
     "output_type": "stream",
     "text": [
      "arr[0, -3:-1] = [3 4]\n"
     ]
    }
   ],
   "source": [
    "print(f\"arr[0, -3:-1] = {arr[0, -3:-1]}\")"
   ]
  },
  {
   "cell_type": "code",
   "execution_count": 19,
   "id": "b31a0a5d",
   "metadata": {},
   "outputs": [
    {
     "name": "stdout",
     "output_type": "stream",
     "text": [
      "arr[0:2, 2] = [3 8]\n"
     ]
    }
   ],
   "source": [
    "print(f\"arr[0:2, 2] = {arr[0:2, 2]}\")"
   ]
  },
  {
   "cell_type": "code",
   "execution_count": null,
   "id": "9a9aab27",
   "metadata": {},
   "outputs": [],
   "source": []
  }
 ],
 "metadata": {
  "kernelspec": {
   "display_name": "Python 3 (ipykernel)",
   "language": "python",
   "name": "python3"
  },
  "language_info": {
   "codemirror_mode": {
    "name": "ipython",
    "version": 3
   },
   "file_extension": ".py",
   "mimetype": "text/x-python",
   "name": "python",
   "nbconvert_exporter": "python",
   "pygments_lexer": "ipython3",
   "version": "3.11.3"
  }
 },
 "nbformat": 4,
 "nbformat_minor": 5
}
