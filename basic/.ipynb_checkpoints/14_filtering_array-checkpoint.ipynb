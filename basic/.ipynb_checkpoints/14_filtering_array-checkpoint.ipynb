{
 "cells": [
  {
   "cell_type": "markdown",
   "id": "48b37a0e",
   "metadata": {},
   "source": [
    "### Filtering Arrays\n",
    "\n",
    "*Getting some elements out of an existing array and creating a new array out of them is called filtering.*"
   ]
  },
  {
   "cell_type": "code",
   "execution_count": 2,
   "id": "f2645fd6",
   "metadata": {},
   "outputs": [],
   "source": [
    "# importing the module\n",
    "import numpy as np\n",
    "\n",
    "# creating the array\n",
    "arr = np.array([1, 2, 3, 0])\n",
    "arr1 = np.array([True, False, True, False])"
   ]
  },
  {
   "cell_type": "code",
   "execution_count": 3,
   "id": "56ab8df4",
   "metadata": {},
   "outputs": [
    {
     "data": {
      "text/plain": [
       "array([1, 3])"
      ]
     },
     "execution_count": 3,
     "metadata": {},
     "output_type": "execute_result"
    }
   ],
   "source": [
    "arr[arr1]"
   ]
  },
  {
   "cell_type": "code",
   "execution_count": 12,
   "id": "7f4bf363",
   "metadata": {},
   "outputs": [
    {
     "name": "stdout",
     "output_type": "stream",
     "text": [
      "Enter the range: 1000\n",
      "\n",
      "\n",
      "Even numbers = [   0    2    4    6    8   10   12   14   16   18   20   22   24   26\n",
      "   28   30   32   34   36   38   40   42   44   46   48   50   52   54\n",
      "   56   58   60   62   64   66   68   70   72   74   76   78   80   82\n",
      "   84   86   88   90   92   94   96   98  100  102  104  106  108  110\n",
      "  112  114  116  118  120  122  124  126  128  130  132  134  136  138\n",
      "  140  142  144  146  148  150  152  154  156  158  160  162  164  166\n",
      "  168  170  172  174  176  178  180  182  184  186  188  190  192  194\n",
      "  196  198  200  202  204  206  208  210  212  214  216  218  220  222\n",
      "  224  226  228  230  232  234  236  238  240  242  244  246  248  250\n",
      "  252  254  256  258  260  262  264  266  268  270  272  274  276  278\n",
      "  280  282  284  286  288  290  292  294  296  298  300  302  304  306\n",
      "  308  310  312  314  316  318  320  322  324  326  328  330  332  334\n",
      "  336  338  340  342  344  346  348  350  352  354  356  358  360  362\n",
      "  364  366  368  370  372  374  376  378  380  382  384  386  388  390\n",
      "  392  394  396  398  400  402  404  406  408  410  412  414  416  418\n",
      "  420  422  424  426  428  430  432  434  436  438  440  442  444  446\n",
      "  448  450  452  454  456  458  460  462  464  466  468  470  472  474\n",
      "  476  478  480  482  484  486  488  490  492  494  496  498  500  502\n",
      "  504  506  508  510  512  514  516  518  520  522  524  526  528  530\n",
      "  532  534  536  538  540  542  544  546  548  550  552  554  556  558\n",
      "  560  562  564  566  568  570  572  574  576  578  580  582  584  586\n",
      "  588  590  592  594  596  598  600  602  604  606  608  610  612  614\n",
      "  616  618  620  622  624  626  628  630  632  634  636  638  640  642\n",
      "  644  646  648  650  652  654  656  658  660  662  664  666  668  670\n",
      "  672  674  676  678  680  682  684  686  688  690  692  694  696  698\n",
      "  700  702  704  706  708  710  712  714  716  718  720  722  724  726\n",
      "  728  730  732  734  736  738  740  742  744  746  748  750  752  754\n",
      "  756  758  760  762  764  766  768  770  772  774  776  778  780  782\n",
      "  784  786  788  790  792  794  796  798  800  802  804  806  808  810\n",
      "  812  814  816  818  820  822  824  826  828  830  832  834  836  838\n",
      "  840  842  844  846  848  850  852  854  856  858  860  862  864  866\n",
      "  868  870  872  874  876  878  880  882  884  886  888  890  892  894\n",
      "  896  898  900  902  904  906  908  910  912  914  916  918  920  922\n",
      "  924  926  928  930  932  934  936  938  940  942  944  946  948  950\n",
      "  952  954  956  958  960  962  964  966  968  970  972  974  976  978\n",
      "  980  982  984  986  988  990  992  994  996  998 1000]\n"
     ]
    }
   ],
   "source": [
    "# find the all possible even number between range\n",
    "\n",
    "def find_evens(arr_range):\n",
    "    numbers = np.arange(0, arr_range+1)\n",
    "    check = []\n",
    "    for i in np.nditer(numbers):\n",
    "        if i%2 == 0:\n",
    "            check.append(True)\n",
    "        else:\n",
    "            check.append(False)\n",
    "            \n",
    "    array = numbers[check]                  # filtering goes here\n",
    "    \n",
    "    return array\n",
    "\n",
    "arr_range = int(input(\"Enter the range: \"))\n",
    "\n",
    "array = find_evens(arr_range)\n",
    "\n",
    "print(f\"\\n\\nEven numbers = {array}\")"
   ]
  },
  {
   "cell_type": "code",
   "execution_count": null,
   "id": "3834bdda",
   "metadata": {},
   "outputs": [],
   "source": []
  }
 ],
 "metadata": {
  "kernelspec": {
   "display_name": "Python 3 (ipykernel)",
   "language": "python",
   "name": "python3"
  },
  "language_info": {
   "codemirror_mode": {
    "name": "ipython",
    "version": 3
   },
   "file_extension": ".py",
   "mimetype": "text/x-python",
   "name": "python",
   "nbconvert_exporter": "python",
   "pygments_lexer": "ipython3",
   "version": "3.11.3"
  }
 },
 "nbformat": 4,
 "nbformat_minor": 5
}
