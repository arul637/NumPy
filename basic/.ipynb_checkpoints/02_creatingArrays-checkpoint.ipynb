{
 "cells": [
  {
   "cell_type": "code",
   "execution_count": 1,
   "id": "888274fb",
   "metadata": {},
   "outputs": [],
   "source": [
    "# importing the modules\n",
    "\n",
    "import numpy as np"
   ]
  },
  {
   "cell_type": "code",
   "execution_count": 2,
   "id": "05120913",
   "metadata": {},
   "outputs": [
    {
     "name": "stdout",
     "output_type": "stream",
     "text": [
      "[1 2 3 4 5]\n",
      "<class 'numpy.ndarray'>\n"
     ]
    }
   ],
   "source": [
    "arr1 = np.array([1, 2, 3, 4, 5])\n",
    "print(arr1)\n",
    "print(type(arr1))"
   ]
  },
  {
   "cell_type": "markdown",
   "id": "a5aff9ec",
   "metadata": {},
   "source": [
    "### types of Array\n",
    "    1. 0D array\n",
    "    2. 1D array\n",
    "    3. 2D array\n",
    "    4. 3D array"
   ]
  },
  {
   "cell_type": "markdown",
   "id": "9bf4027b",
   "metadata": {},
   "source": [
    "## 0D Array"
   ]
  },
  {
   "cell_type": "code",
   "execution_count": 5,
   "id": "b288ac70",
   "metadata": {},
   "outputs": [
    {
     "name": "stdout",
     "output_type": "stream",
     "text": [
      "Array:  42\n",
      "type:  <class 'numpy.ndarray'>\n",
      "Dimension:  0\n"
     ]
    }
   ],
   "source": [
    "arr = np.array(42)\n",
    "print(\"Array: \", arr)\n",
    "print(\"type: \", type(arr))\n",
    "print(\"Dimension: \", arr.ndim)"
   ]
  },
  {
   "cell_type": "markdown",
   "id": "a3bf393e",
   "metadata": {},
   "source": [
    "## 1D Array"
   ]
  },
  {
   "cell_type": "code",
   "execution_count": 3,
   "id": "0569ebbb",
   "metadata": {},
   "outputs": [
    {
     "name": "stdout",
     "output_type": "stream",
     "text": [
      "Array:  [1 2 3 4 5]\n",
      "type:  <class 'numpy.ndarray'>\n",
      "Dimension:  1\n"
     ]
    }
   ],
   "source": [
    "array1 = np.array([1, 2, 3, 4, 5])\n",
    "print(\"Array: \", array1)\n",
    "print(\"type: \", type(array1))\n",
    "print(\"Dimension: \", array1.ndim)"
   ]
  },
  {
   "cell_type": "markdown",
   "id": "806bd421",
   "metadata": {},
   "source": [
    "## 2D Array"
   ]
  },
  {
   "cell_type": "code",
   "execution_count": 6,
   "id": "d04361e5",
   "metadata": {},
   "outputs": [
    {
     "name": "stdout",
     "output_type": "stream",
     "text": [
      "Array:  [[1 2 3]\n",
      " [4 5 6]]\n",
      "type:  <class 'numpy.ndarray'>\n",
      "Dimension:  2\n"
     ]
    }
   ],
   "source": [
    "arr = np.array([\n",
    "    [1, 2, 3],\n",
    "    [4, 5, 6]\n",
    "])\n",
    "print(\"Array: \", arr)\n",
    "print(\"type: \", type(arr))\n",
    "print(\"Dimension: \", arr.ndim)"
   ]
  },
  {
   "cell_type": "markdown",
   "id": "a59e5f0e",
   "metadata": {},
   "source": [
    "## 3D Array"
   ]
  },
  {
   "cell_type": "code",
   "execution_count": 8,
   "id": "1dbf1254",
   "metadata": {},
   "outputs": [
    {
     "name": "stdout",
     "output_type": "stream",
     "text": [
      "Array:  [[[1 2 3]]\n",
      "\n",
      " [[4 5 6]]]\n",
      "type:  <class 'numpy.ndarray'>\n",
      "Dimension:  3\n"
     ]
    }
   ],
   "source": [
    "arr = np.array([\n",
    "    [\n",
    "        [1, 2, 3]\n",
    "    ],\n",
    "    [\n",
    "        [4, 5, 6]\n",
    "    ]\n",
    "])\n",
    "print(\"Array: \", arr)\n",
    "print(\"type: \", type(arr))\n",
    "print(\"Dimension: \", arr.ndim)"
   ]
  },
  {
   "cell_type": "markdown",
   "id": "b7fd77eb",
   "metadata": {},
   "source": [
    "## Random Dimension Array"
   ]
  },
  {
   "cell_type": "code",
   "execution_count": 11,
   "id": "98a92e27",
   "metadata": {},
   "outputs": [
    {
     "name": "stdout",
     "output_type": "stream",
     "text": [
      "Array:  [[[[[1 2 3 4 5]]]]]\n",
      "type:  <class 'numpy.ndarray'>\n",
      "Dimension:  5\n"
     ]
    }
   ],
   "source": [
    "arr = np.array([1, 2, 3, 4, 5], ndmin=5)\n",
    "print(\"Array: \", arr)\n",
    "print(\"type: \", type(arr))\n",
    "print(\"Dimension: \", arr.ndim)"
   ]
  },
  {
   "cell_type": "code",
   "execution_count": 12,
   "id": "f789a007",
   "metadata": {},
   "outputs": [
    {
     "name": "stdout",
     "output_type": "stream",
     "text": [
      "Array:  [[[[[[[[[[1 2 3 4 5]]]]]]]]]]\n",
      "type:  <class 'numpy.ndarray'>\n",
      "Dimension:  10\n"
     ]
    }
   ],
   "source": [
    "arr = np.array([1, 2, 3, 4, 5], ndmin=10)\n",
    "print(\"Array: \", arr)\n",
    "print(\"type: \", type(arr))\n",
    "print(\"Dimension: \", arr.ndim)"
   ]
  },
  {
   "cell_type": "code",
   "execution_count": null,
   "id": "4cee1f27",
   "metadata": {},
   "outputs": [],
   "source": []
  }
 ],
 "metadata": {
  "kernelspec": {
   "display_name": "Python 3 (ipykernel)",
   "language": "python",
   "name": "python3"
  },
  "language_info": {
   "codemirror_mode": {
    "name": "ipython",
    "version": 3
   },
   "file_extension": ".py",
   "mimetype": "text/x-python",
   "name": "python",
   "nbconvert_exporter": "python",
   "pygments_lexer": "ipython3",
   "version": "3.11.3"
  }
 },
 "nbformat": 4,
 "nbformat_minor": 5
}
