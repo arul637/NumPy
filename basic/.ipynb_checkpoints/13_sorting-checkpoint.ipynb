{
 "cells": [
  {
   "cell_type": "markdown",
   "id": "f7828d2a",
   "metadata": {},
   "source": [
    "### Sorting Arrays\n",
    "\n",
    "*Sorting means putting elements in an ordered sequence.*\n",
    "\n",
    "Ordered sequence is any sequence that has an order corresponding to elements, like numeric or alphabetical, *ascending* or *descending*.\n",
    "\n",
    "The NumPy ndarray object has a function called `sort()`, that will sort a specified array."
   ]
  },
  {
   "cell_type": "code",
   "execution_count": 1,
   "id": "7ea790ec",
   "metadata": {},
   "outputs": [],
   "source": [
    "# importing the modules\n",
    "import numpy as np\n",
    "\n",
    "# creating the arrays\n",
    "arr = np.array([10, 29, 3, 19, 21, 31, 12, 22])"
   ]
  },
  {
   "cell_type": "code",
   "execution_count": 2,
   "id": "eaecc38a",
   "metadata": {},
   "outputs": [
    {
     "name": "stdout",
     "output_type": "stream",
     "text": [
      "arr = [10 29  3 19 21 31 12 22]\n"
     ]
    }
   ],
   "source": [
    "print(f\"arr = {arr}\")"
   ]
  },
  {
   "cell_type": "code",
   "execution_count": 3,
   "id": "d0269fc6",
   "metadata": {},
   "outputs": [
    {
     "data": {
      "text/plain": [
       "array([ 3, 10, 12, 19, 21, 22, 29, 31])"
      ]
     },
     "execution_count": 3,
     "metadata": {},
     "output_type": "execute_result"
    }
   ],
   "source": [
    "np.sort(arr)"
   ]
  },
  {
   "cell_type": "code",
   "execution_count": 8,
   "id": "155a8cbd",
   "metadata": {},
   "outputs": [],
   "source": [
    "alphabets = np.array(['b', 's', 'e', 'a', 'h', 't', 'k', 'm'])"
   ]
  },
  {
   "cell_type": "code",
   "execution_count": 9,
   "id": "70acac19",
   "metadata": {},
   "outputs": [
    {
     "name": "stdout",
     "output_type": "stream",
     "text": [
      "alphabets = ['b' 's' 'e' 'a' 'h' 't' 'k' 'm']\n"
     ]
    }
   ],
   "source": [
    "print(f'alphabets = {alphabets}')"
   ]
  },
  {
   "cell_type": "code",
   "execution_count": 10,
   "id": "7f719e52",
   "metadata": {},
   "outputs": [
    {
     "data": {
      "text/plain": [
       "array(['a', 'b', 'e', 'h', 'k', 'm', 's', 't'], dtype='<U1')"
      ]
     },
     "execution_count": 10,
     "metadata": {},
     "output_type": "execute_result"
    }
   ],
   "source": [
    "np.sort(alphabets)"
   ]
  },
  {
   "cell_type": "markdown",
   "id": "38218f20",
   "metadata": {},
   "source": [
    "## sorting the 2D array"
   ]
  },
  {
   "cell_type": "code",
   "execution_count": 11,
   "id": "b3ed6679",
   "metadata": {},
   "outputs": [
    {
     "name": "stdout",
     "output_type": "stream",
     "text": [
      "arr = [[1 5 2]\n",
      " [9 3 8]]\n"
     ]
    }
   ],
   "source": [
    "arr = np.array([\n",
    "    [1, 5, 2],\n",
    "    [9, 3, 8]\n",
    "])\n",
    "print(f\"arr = {arr}\")"
   ]
  },
  {
   "cell_type": "code",
   "execution_count": 12,
   "id": "02f87412",
   "metadata": {},
   "outputs": [
    {
     "data": {
      "text/plain": [
       "array([[1, 2, 5],\n",
       "       [3, 8, 9]])"
      ]
     },
     "execution_count": 12,
     "metadata": {},
     "output_type": "execute_result"
    }
   ],
   "source": [
    "np.sort(arr)"
   ]
  },
  {
   "cell_type": "code",
   "execution_count": null,
   "id": "fd4d0f34",
   "metadata": {},
   "outputs": [],
   "source": []
  }
 ],
 "metadata": {
  "kernelspec": {
   "display_name": "Python 3 (ipykernel)",
   "language": "python",
   "name": "python3"
  },
  "language_info": {
   "codemirror_mode": {
    "name": "ipython",
    "version": 3
   },
   "file_extension": ".py",
   "mimetype": "text/x-python",
   "name": "python",
   "nbconvert_exporter": "python",
   "pygments_lexer": "ipython3",
   "version": "3.11.3"
  }
 },
 "nbformat": 4,
 "nbformat_minor": 5
}
