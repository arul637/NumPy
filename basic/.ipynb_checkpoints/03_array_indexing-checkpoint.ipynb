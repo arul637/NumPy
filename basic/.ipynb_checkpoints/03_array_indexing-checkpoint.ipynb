{
 "cells": [
  {
   "cell_type": "code",
   "execution_count": 1,
   "id": "95279837",
   "metadata": {},
   "outputs": [],
   "source": [
    "# importing the modules\n",
    "\n",
    "import numpy as np"
   ]
  },
  {
   "cell_type": "markdown",
   "id": "917fd26c",
   "metadata": {},
   "source": [
    "## Array indexing on:-\n",
    "    1. 1D Array\n",
    "    2. 2D Array\n",
    "    3. 3D Array"
   ]
  },
  {
   "cell_type": "markdown",
   "id": "72fa9a83",
   "metadata": {},
   "source": [
    "### 1D Array"
   ]
  },
  {
   "cell_type": "code",
   "execution_count": 3,
   "id": "2dc3ec91",
   "metadata": {},
   "outputs": [
    {
     "name": "stdout",
     "output_type": "stream",
     "text": [
      "arr: [1 2 3 4 5]\n",
      "arr[2]: 3\n",
      "arr[-2]: 4\n"
     ]
    }
   ],
   "source": [
    "arr = np.array([1, 2, 3, 4, 5])\n",
    "print(f\"arr: {arr}\")\n",
    "print(f\"arr[2]: {arr[2]}\")\n",
    "print(f\"arr[-2]: {arr[-2]}\")"
   ]
  },
  {
   "cell_type": "markdown",
   "id": "48b2c9c4",
   "metadata": {},
   "source": [
    "### 2D Array"
   ]
  },
  {
   "cell_type": "code",
   "execution_count": 6,
   "id": "38f25043",
   "metadata": {},
   "outputs": [
    {
     "name": "stdout",
     "output_type": "stream",
     "text": [
      "arr: [[1 2 3 4 5]\n",
      " [6 7 8 9 0]]\n",
      "arr[1, 2]: 8\n",
      "arr[1, -2]: 9\n",
      "arr[1][2]: 8\n",
      "arr[1][-2]: 9\n"
     ]
    }
   ],
   "source": [
    "arr = np.array([\n",
    "    [1, 2, 3, 4, 5],\n",
    "    [6, 7, 8, 9, 0]\n",
    "])\n",
    "print(f\"arr: {arr}\")\n",
    "print(f\"arr[1, 2]: {arr[1, 2]}\")\n",
    "print(f\"arr[1, -2]: {arr[1, -2]}\")\n",
    "print(f\"arr[1][2]: {arr[1][2]}\")\n",
    "print(f\"arr[1][-2]: {arr[1][-2]}\")"
   ]
  },
  {
   "cell_type": "markdown",
   "id": "d3db5b45",
   "metadata": {},
   "source": [
    "### 3D Array"
   ]
  },
  {
   "cell_type": "code",
   "execution_count": 7,
   "id": "c4630d3a",
   "metadata": {},
   "outputs": [
    {
     "name": "stdout",
     "output_type": "stream",
     "text": [
      "arr: [[[1 2 3]]\n",
      "\n",
      " [[4 5 6]]]\n",
      "arr[1, 0, 2]: 6\n",
      "arr[1, 0, -2]: 5\n",
      "arr[1][0][2]: 6\n",
      "arr[1][0][-2]: 5\n"
     ]
    }
   ],
   "source": [
    "arr = np.array([\n",
    "    [\n",
    "        [1, 2, 3]\n",
    "    ],\n",
    "    [\n",
    "        [4, 5, 6]\n",
    "    ]\n",
    "])\n",
    "print(f\"arr: {arr}\")\n",
    "print(f\"arr[1, 0, 2]: {arr[1, 0, 2]}\")\n",
    "print(f\"arr[1, 0, -2]: {arr[1, 0, -2]}\")\n",
    "print(f\"arr[1][0][2]: {arr[1][0][2]}\")\n",
    "print(f\"arr[1][0][-2]: {arr[1][0][-2]}\")"
   ]
  },
  {
   "cell_type": "code",
   "execution_count": null,
   "id": "f7da826f",
   "metadata": {},
   "outputs": [],
   "source": []
  }
 ],
 "metadata": {
  "kernelspec": {
   "display_name": "Python 3 (ipykernel)",
   "language": "python",
   "name": "python3"
  },
  "language_info": {
   "codemirror_mode": {
    "name": "ipython",
    "version": 3
   },
   "file_extension": ".py",
   "mimetype": "text/x-python",
   "name": "python",
   "nbconvert_exporter": "python",
   "pygments_lexer": "ipython3",
   "version": "3.11.3"
  }
 },
 "nbformat": 4,
 "nbformat_minor": 5
}
