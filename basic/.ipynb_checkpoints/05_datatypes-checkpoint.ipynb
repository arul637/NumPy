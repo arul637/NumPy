{
 "cells": [
  {
   "cell_type": "markdown",
   "id": "5a5ae4e5",
   "metadata": {},
   "source": [
    "### datatypes in python\n",
    "\n",
    "   * `strings` - used to represent text data, the text is given under quote marks. e.g. \"ABCD\"\n",
    "   * `integer` - used to represent integer numbers. e.g. -1, -2, -3\n",
    "   * `float` - used to represent real numbers. e.g. 1.2, 42.42\n",
    "   * `boolean` - used to represent True or False.\n",
    "   * `complex` - used to represent complex numbers. e.g. 1.0 + 2.0j, 1.5 + 2.5j\n",
    "   \n",
    "### datatypes in numpy\n",
    "\n",
    "   NumPy has some extra data types, and refer to data types with one character, like i for integers, u for unsigned integers etc.\n",
    "\n",
    "   * `i` - integer\n",
    "   * `b` - boolean\n",
    "   * `u` - unsigned integer\n",
    "   * `f` - float\n",
    "   * `c` - complex float\n",
    "   * `m` - timedelta\n",
    "   * `M` - datetime\n",
    "   * `O` - object\n",
    "   * `S` - string\n",
    "   * `U` - unicode string\n",
    "   * `V` - fixed chunk of memory for other type ( void )\n"
   ]
  },
  {
   "cell_type": "code",
   "execution_count": 1,
   "id": "077833ef",
   "metadata": {},
   "outputs": [],
   "source": [
    "# importing the modules\n",
    "import numpy as np"
   ]
  },
  {
   "cell_type": "code",
   "execution_count": 2,
   "id": "16911bf7",
   "metadata": {},
   "outputs": [
    {
     "name": "stdout",
     "output_type": "stream",
     "text": [
      "arr = [1 2 3 4 5]\n",
      "type(arr) = <class 'numpy.ndarray'>\n",
      "arr.dtype = int32\n"
     ]
    }
   ],
   "source": [
    "arr = np.array([1, 2, 3, 4, 5])\n",
    "print(f\"arr = {arr}\")\n",
    "print(f\"type(arr) = {type(arr)}\")\n",
    "print(f\"arr.dtype = {arr.dtype}\")"
   ]
  },
  {
   "cell_type": "code",
   "execution_count": 3,
   "id": "17eb8b86",
   "metadata": {},
   "outputs": [
    {
     "name": "stdout",
     "output_type": "stream",
     "text": [
      "arr = ['1' '2' '3' '4' '5']\n",
      "type(arr) = <class 'numpy.ndarray'>\n",
      "arr.dtype = <U1\n"
     ]
    }
   ],
   "source": [
    "arr = np.array(['1', '2', '3', '4', '5'])\n",
    "print(f\"arr = {arr}\")\n",
    "print(f\"type(arr) = {type(arr)}\")\n",
    "print(f\"arr.dtype = {arr.dtype}\")"
   ]
  },
  {
   "cell_type": "markdown",
   "id": "d92ff9e7",
   "metadata": {},
   "source": [
    "### after changing the datatype of array"
   ]
  },
  {
   "cell_type": "code",
   "execution_count": 5,
   "id": "67119637",
   "metadata": {},
   "outputs": [
    {
     "name": "stdout",
     "output_type": "stream",
     "text": [
      "arr = [1 2 3 4 5]\n",
      "type(arr) = <class 'numpy.ndarray'>\n",
      "arr.dtype = int32\n"
     ]
    }
   ],
   "source": [
    "arr = np.array(['1', '2', '3', '4', '5'], dtype='i')\n",
    "print(f\"arr = {arr}\")\n",
    "print(f\"type(arr) = {type(arr)}\")\n",
    "print(f\"arr.dtype = {arr.dtype}\")"
   ]
  },
  {
   "cell_type": "code",
   "execution_count": 7,
   "id": "25804056",
   "metadata": {},
   "outputs": [
    {
     "name": "stdout",
     "output_type": "stream",
     "text": [
      "arr = [b'1' b'2' b'3' b'4' b'5']\n",
      "type(arr) = <class 'numpy.ndarray'>\n",
      "arr.dtype = |S1\n"
     ]
    }
   ],
   "source": [
    "arr = np.array([1, 2, 3, 4, 5], dtype='S')\n",
    "print(f\"arr = {arr}\")\n",
    "print(f\"type(arr) = {type(arr)}\")\n",
    "print(f\"arr.dtype = {arr.dtype}\")"
   ]
  },
  {
   "cell_type": "code",
   "execution_count": 8,
   "id": "ae0b9828",
   "metadata": {},
   "outputs": [
    {
     "name": "stdout",
     "output_type": "stream",
     "text": [
      "arr = ['1' '2' '3' '4' '5']\n",
      "type(arr) = <class 'numpy.ndarray'>\n",
      "arr.dtype = <U1\n"
     ]
    }
   ],
   "source": [
    "arr = np.array([1, 2, 3, 4, 5], dtype='U')\n",
    "print(f\"arr = {arr}\")\n",
    "print(f\"type(arr) = {type(arr)}\")\n",
    "print(f\"arr.dtype = {arr.dtype}\")"
   ]
  },
  {
   "cell_type": "code",
   "execution_count": 9,
   "id": "1346eb59",
   "metadata": {},
   "outputs": [
    {
     "name": "stdout",
     "output_type": "stream",
     "text": [
      "arr = ['1' '2' '3' '4' '5']\n",
      "type(arr) = <class 'numpy.ndarray'>\n",
      "arr.dtype = <U2\n"
     ]
    }
   ],
   "source": [
    "arr = np.array([1, 2, 3, 4, 5], dtype='U2')\n",
    "print(f\"arr = {arr}\")\n",
    "print(f\"type(arr) = {type(arr)}\")\n",
    "print(f\"arr.dtype = {arr.dtype}\")"
   ]
  },
  {
   "cell_type": "code",
   "execution_count": 10,
   "id": "f16c0dc4",
   "metadata": {},
   "outputs": [
    {
     "name": "stdout",
     "output_type": "stream",
     "text": [
      "arr = [1 2 3 4 5]\n",
      "type(arr) = <class 'numpy.ndarray'>\n",
      "arr.dtype = int8\n"
     ]
    }
   ],
   "source": [
    "arr = np.array([1, 2, 3, 4, 5], dtype='b')\n",
    "print(f\"arr = {arr}\")\n",
    "print(f\"type(arr) = {type(arr)}\")\n",
    "print(f\"arr.dtype = {arr.dtype}\")"
   ]
  },
  {
   "cell_type": "code",
   "execution_count": 13,
   "id": "a803ee12",
   "metadata": {},
   "outputs": [
    {
     "name": "stdout",
     "output_type": "stream",
     "text": [
      "arr = [1. 2. 3. 4. 5.]\n",
      "type(arr) = <class 'numpy.ndarray'>\n",
      "arr.dtype = float32\n"
     ]
    }
   ],
   "source": [
    "arr = np.array([1, 2, 3, 4, 5], dtype='f')\n",
    "print(f\"arr = {arr}\")\n",
    "print(f\"type(arr) = {type(arr)}\")\n",
    "print(f\"arr.dtype = {arr.dtype}\")"
   ]
  },
  {
   "cell_type": "code",
   "execution_count": 14,
   "id": "b0ecf73d",
   "metadata": {},
   "outputs": [
    {
     "name": "stdout",
     "output_type": "stream",
     "text": [
      "arr = [1 2 3 4 5]\n",
      "type(arr) = <class 'numpy.ndarray'>\n",
      "arr.dtype = int32\n"
     ]
    }
   ],
   "source": [
    "arr = np.array([1, 2, 3, 4, 5], dtype='i4')\n",
    "print(f\"arr = {arr}\")\n",
    "print(f\"type(arr) = {type(arr)}\")\n",
    "print(f\"arr.dtype = {arr.dtype}\")"
   ]
  },
  {
   "cell_type": "code",
   "execution_count": 16,
   "id": "084a7e08",
   "metadata": {},
   "outputs": [
    {
     "name": "stdout",
     "output_type": "stream",
     "text": [
      "arr = [1 2 3 4 5]\n",
      "type(arr) = <class 'numpy.ndarray'>\n",
      "arr.dtype = int16\n"
     ]
    }
   ],
   "source": [
    "arr = np.array([1, 2, 3, 4, 5], dtype='i2')\n",
    "print(f\"arr = {arr}\")\n",
    "print(f\"type(arr) = {type(arr)}\")\n",
    "print(f\"arr.dtype = {arr.dtype}\")"
   ]
  },
  {
   "cell_type": "code",
   "execution_count": 18,
   "id": "fdcb6f0a",
   "metadata": {},
   "outputs": [
    {
     "name": "stdout",
     "output_type": "stream",
     "text": [
      "arr = [1 2 3 4 5]\n",
      "type(arr) = <class 'numpy.ndarray'>\n",
      "arr.dtype = int8\n"
     ]
    }
   ],
   "source": [
    "arr = np.array([1, 2, 3, 4, 5], dtype='i1')\n",
    "print(f\"arr = {arr}\")\n",
    "print(f\"type(arr) = {type(arr)}\")\n",
    "print(f\"arr.dtype = {arr.dtype}\")"
   ]
  },
  {
   "cell_type": "code",
   "execution_count": 19,
   "id": "aced52ac",
   "metadata": {},
   "outputs": [
    {
     "name": "stdout",
     "output_type": "stream",
     "text": [
      "arr = [1 2 3 4 5]\n",
      "type(arr) = <class 'numpy.ndarray'>\n",
      "arr.dtype = int64\n"
     ]
    }
   ],
   "source": [
    "arr = np.array([1, 2, 3, 4, 5], dtype='i8')\n",
    "print(f\"arr = {arr}\")\n",
    "print(f\"type(arr) = {type(arr)}\")\n",
    "print(f\"arr.dtype = {arr.dtype}\")"
   ]
  },
  {
   "cell_type": "code",
   "execution_count": 20,
   "id": "90ef7635",
   "metadata": {},
   "outputs": [
    {
     "name": "stdout",
     "output_type": "stream",
     "text": [
      "arr = [1. 2. 3. 4. 5.]\n",
      "type(arr) = <class 'numpy.ndarray'>\n",
      "arr.dtype = float16\n"
     ]
    }
   ],
   "source": [
    "arr = np.array([1, 2, 3, 4, 5], dtype='f2')\n",
    "print(f\"arr = {arr}\")\n",
    "print(f\"type(arr) = {type(arr)}\")\n",
    "print(f\"arr.dtype = {arr.dtype}\")"
   ]
  },
  {
   "cell_type": "code",
   "execution_count": 23,
   "id": "09ef88d8",
   "metadata": {},
   "outputs": [
    {
     "name": "stdout",
     "output_type": "stream",
     "text": [
      "arr = [1. 2. 3. 4. 5.]\n",
      "type(arr) = <class 'numpy.ndarray'>\n",
      "arr.dtype = float32\n"
     ]
    }
   ],
   "source": [
    "arr = np.array([1, 2, 3, 4, 5], dtype='f4')\n",
    "print(f\"arr = {arr}\")\n",
    "print(f\"type(arr) = {type(arr)}\")\n",
    "print(f\"arr.dtype = {arr.dtype}\")"
   ]
  },
  {
   "cell_type": "markdown",
   "id": "5254b78d",
   "metadata": {},
   "source": [
    "## Converting Data Type on Existing Arrays\n",
    "\n",
    "*The best way to change the data type of an existing array, is to make a copy of the array with the astype() method.  The astype() function creates a copy of the array, and allows you to specify the data type as a parameter.*\n",
    "\n",
    "The data type can be specified using a string, like '`f`' for float, '`i`' for integer etc. or you can use the data type directly like float for float and int for integer."
   ]
  },
  {
   "cell_type": "code",
   "execution_count": 26,
   "id": "59de26f8",
   "metadata": {},
   "outputs": [
    {
     "name": "stdout",
     "output_type": "stream",
     "text": [
      "new_arr = [1. 2. 3. 4. 5.]\n",
      "type(new_arr) = <class 'numpy.ndarray'>\n",
      "new_arr.dtype = float32\n"
     ]
    }
   ],
   "source": [
    "arr = np.array([1, 2, 3, 4, 5])\n",
    "new_arr = arr.astype('f')\n",
    "print(f\"new_arr = {new_arr}\")\n",
    "print(f\"type(new_arr) = {type(new_arr)}\")\n",
    "print(f\"new_arr.dtype = {new_arr.dtype}\")"
   ]
  },
  {
   "cell_type": "code",
   "execution_count": 27,
   "id": "e428cf29",
   "metadata": {},
   "outputs": [
    {
     "name": "stdout",
     "output_type": "stream",
     "text": [
      "new_arr = [ True  True  True  True  True]\n",
      "type(new_arr) = <class 'numpy.ndarray'>\n",
      "new_arr.dtype = bool\n"
     ]
    }
   ],
   "source": [
    "arr = np.array([1, 2, 3, 4, 5])\n",
    "new_arr = arr.astype(bool)\n",
    "print(f\"new_arr = {new_arr}\")\n",
    "print(f\"type(new_arr) = {type(new_arr)}\")\n",
    "print(f\"new_arr.dtype = {new_arr.dtype}\")"
   ]
  },
  {
   "cell_type": "code",
   "execution_count": 28,
   "id": "c5c4fbae",
   "metadata": {},
   "outputs": [
    {
     "name": "stdout",
     "output_type": "stream",
     "text": [
      "new_arr = [1 2 3 4 5]\n",
      "type(new_arr) = <class 'numpy.ndarray'>\n",
      "new_arr.dtype = int32\n"
     ]
    }
   ],
   "source": [
    "arr = np.array([1, 2, 3, 4, 5])\n",
    "new_arr = arr.astype(int)\n",
    "print(f\"new_arr = {new_arr}\")\n",
    "print(f\"type(new_arr) = {type(new_arr)}\")\n",
    "print(f\"new_arr.dtype = {new_arr.dtype}\")"
   ]
  },
  {
   "cell_type": "code",
   "execution_count": 29,
   "id": "6db50e43",
   "metadata": {},
   "outputs": [
    {
     "name": "stdout",
     "output_type": "stream",
     "text": [
      "new_arr = ['1' '2' '3' '4' '5']\n",
      "type(new_arr) = <class 'numpy.ndarray'>\n",
      "new_arr.dtype = <U11\n"
     ]
    }
   ],
   "source": [
    "arr = np.array([1, 2, 3, 4, 5])\n",
    "new_arr = arr.astype(str)\n",
    "print(f\"new_arr = {new_arr}\")\n",
    "print(f\"type(new_arr) = {type(new_arr)}\")\n",
    "print(f\"new_arr.dtype = {new_arr.dtype}\")"
   ]
  },
  {
   "cell_type": "code",
   "execution_count": null,
   "id": "732808f9",
   "metadata": {},
   "outputs": [],
   "source": []
  }
 ],
 "metadata": {
  "kernelspec": {
   "display_name": "Python 3 (ipykernel)",
   "language": "python",
   "name": "python3"
  },
  "language_info": {
   "codemirror_mode": {
    "name": "ipython",
    "version": 3
   },
   "file_extension": ".py",
   "mimetype": "text/x-python",
   "name": "python",
   "nbconvert_exporter": "python",
   "pygments_lexer": "ipython3",
   "version": "3.11.3"
  }
 },
 "nbformat": 4,
 "nbformat_minor": 5
}
