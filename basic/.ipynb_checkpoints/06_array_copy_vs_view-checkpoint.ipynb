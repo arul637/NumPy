{
 "cells": [
  {
   "cell_type": "markdown",
   "id": "2552d44c",
   "metadata": {},
   "source": [
    "### The Difference Between Copy and View\n",
    "\n",
    "* *The copy owns the data and any changes made to the copy will not affect original array, and any changes made to the original array will not affect the copy.*\n",
    "\n",
    "* *The view does not own the data and any changes made to the view will affect the original array, and any changes made to the original array will affect the view.*"
   ]
  },
  {
   "cell_type": "code",
   "execution_count": 10,
   "id": "70076c8d",
   "metadata": {},
   "outputs": [],
   "source": [
    "# importing the modules\n",
    "import numpy as np\n",
    "\n",
    "# creating the array\n",
    "arr = np.array([1, 2, 3, 4, 5, 6, 7, 8, 9, 0])"
   ]
  },
  {
   "cell_type": "markdown",
   "id": "bfe35d50",
   "metadata": {},
   "source": [
    "## copy()"
   ]
  },
  {
   "cell_type": "code",
   "execution_count": 11,
   "id": "120a6609",
   "metadata": {},
   "outputs": [
    {
     "name": "stdout",
     "output_type": "stream",
     "text": [
      "arr = [1 2 3 4 5 6 7 8 9 0]\n",
      "arr_copy = [  1   2   3   4   5   6   7   8   9 100]\n"
     ]
    }
   ],
   "source": [
    "arr_copy = arr.copy()\n",
    "arr_copy[-1] = 100\n",
    "print(f\"arr = {arr}\")\n",
    "print(f\"arr_copy = {arr_copy}\")"
   ]
  },
  {
   "cell_type": "markdown",
   "id": "05ad17eb",
   "metadata": {},
   "source": [
    "## view()"
   ]
  },
  {
   "cell_type": "code",
   "execution_count": 12,
   "id": "9aa314a1",
   "metadata": {},
   "outputs": [
    {
     "name": "stdout",
     "output_type": "stream",
     "text": [
      "arr = [  1   2   3   4   5   6   7   8   9 100]\n",
      "arr_view = [  1   2   3   4   5   6   7   8   9 100]\n"
     ]
    }
   ],
   "source": [
    "arr_view = arr.view()\n",
    "arr_view[-1] = 100\n",
    "print(f\"arr = {arr}\")\n",
    "print(f\"arr_view = {arr_view}\")"
   ]
  },
  {
   "cell_type": "markdown",
   "id": "7cb8105b",
   "metadata": {},
   "source": [
    "### checking the array owns data\n",
    "\n",
    "* *Every NumPy array has the attribute `base` that returns None if the array owns the data.*"
   ]
  },
  {
   "cell_type": "code",
   "execution_count": 13,
   "id": "79f584ea",
   "metadata": {},
   "outputs": [
    {
     "name": "stdout",
     "output_type": "stream",
     "text": [
      "arr = [1 2 3 4 5 6 7 8 9 0]\n",
      "arr_copy = [1 2 3 4 5 6 7 8 9 0]\n",
      "arr_view = [1 2 3 4 5 6 7 8 9 0]\n",
      "arr_copy.base = None\n",
      "arr_view.base = [1 2 3 4 5 6 7 8 9 0]\n"
     ]
    }
   ],
   "source": [
    "arr = np.array([1, 2, 3, 4, 5, 6, 7, 8, 9, 0])\n",
    "arr_copy = arr.copy()\n",
    "arr_view = arr.view()\n",
    "\n",
    "print(f\"arr = {arr}\")\n",
    "print(f\"arr_copy = {arr_copy}\")\n",
    "print(f\"arr_view = {arr_view}\")\n",
    "print(f\"arr_copy.base = {arr_copy.base}\")        # return none because it just copying the value.\n",
    "print(f\"arr_view.base = {arr_view.base}\")"
   ]
  },
  {
   "cell_type": "code",
   "execution_count": null,
   "id": "3d81936c",
   "metadata": {},
   "outputs": [],
   "source": []
  }
 ],
 "metadata": {
  "kernelspec": {
   "display_name": "Python 3 (ipykernel)",
   "language": "python",
   "name": "python3"
  },
  "language_info": {
   "codemirror_mode": {
    "name": "ipython",
    "version": 3
   },
   "file_extension": ".py",
   "mimetype": "text/x-python",
   "name": "python",
   "nbconvert_exporter": "python",
   "pygments_lexer": "ipython3",
   "version": "3.11.3"
  }
 },
 "nbformat": 4,
 "nbformat_minor": 5
}
