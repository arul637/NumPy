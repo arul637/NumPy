{
 "cells": [
  {
   "cell_type": "markdown",
   "id": "0dfa36fc",
   "metadata": {},
   "source": [
    "### Splitting NumPy Arrays\n",
    "\n",
    "*Splitting is reverse operation of Joining.*\n",
    "\n",
    "`Joining` merges multiple arrays into one and `Splitting` breaks one array into multiple."
   ]
  },
  {
   "cell_type": "code",
   "execution_count": 2,
   "id": "7b5cca58",
   "metadata": {},
   "outputs": [],
   "source": [
    "# importing the modules\n",
    "import numpy as np\n",
    "\n",
    "# creating the array\n",
    "arr = np.array([1, 2, 3, 4, 5, 6])"
   ]
  },
  {
   "cell_type": "code",
   "execution_count": 3,
   "id": "bbc2945f",
   "metadata": {},
   "outputs": [
    {
     "data": {
      "text/plain": [
       "[array([1, 2]), array([3, 4]), array([5, 6])]"
      ]
     },
     "execution_count": 3,
     "metadata": {},
     "output_type": "execute_result"
    }
   ],
   "source": [
    "np.split(arr, 3)"
   ]
  },
  {
   "cell_type": "code",
   "execution_count": 5,
   "id": "b69cfea9",
   "metadata": {},
   "outputs": [
    {
     "data": {
      "text/plain": [
       "[array([1]), array([2]), array([3]), array([4]), array([5]), array([6])]"
      ]
     },
     "execution_count": 5,
     "metadata": {},
     "output_type": "execute_result"
    }
   ],
   "source": [
    "np.split(arr, 6)"
   ]
  },
  {
   "cell_type": "code",
   "execution_count": 6,
   "id": "846041a6",
   "metadata": {},
   "outputs": [
    {
     "data": {
      "text/plain": [
       "[array([1, 2, 3]), array([4, 5, 6])]"
      ]
     },
     "execution_count": 6,
     "metadata": {},
     "output_type": "execute_result"
    }
   ],
   "source": [
    "np.split(arr, 2)"
   ]
  },
  {
   "cell_type": "code",
   "execution_count": 9,
   "id": "cfc0ccda",
   "metadata": {},
   "outputs": [
    {
     "data": {
      "text/plain": [
       "[array([1, 2]), array([3, 4]), array([5]), array([6])]"
      ]
     },
     "execution_count": 9,
     "metadata": {},
     "output_type": "execute_result"
    }
   ],
   "source": [
    "np.array_split(arr, 4)"
   ]
  },
  {
   "cell_type": "code",
   "execution_count": 10,
   "id": "f3d0a8b7",
   "metadata": {},
   "outputs": [
    {
     "data": {
      "text/plain": [
       "[array([1, 2]), array([3]), array([4]), array([5]), array([6])]"
      ]
     },
     "execution_count": 10,
     "metadata": {},
     "output_type": "execute_result"
    }
   ],
   "source": [
    "np.array_split(arr, 5)"
   ]
  },
  {
   "cell_type": "markdown",
   "id": "0b3b6b76",
   "metadata": {},
   "source": [
    "### splitting the 2D Array"
   ]
  },
  {
   "cell_type": "code",
   "execution_count": 11,
   "id": "53528466",
   "metadata": {},
   "outputs": [],
   "source": [
    "arr = np.array([\n",
    "    [1, 2],\n",
    "    [3, 4],\n",
    "    [5, 6],\n",
    "    [7, 8]\n",
    "])"
   ]
  },
  {
   "cell_type": "code",
   "execution_count": 12,
   "id": "af62f152",
   "metadata": {},
   "outputs": [
    {
     "data": {
      "text/plain": [
       "[array([[1, 2],\n",
       "        [3, 4]]),\n",
       " array([[5, 6],\n",
       "        [7, 8]])]"
      ]
     },
     "execution_count": 12,
     "metadata": {},
     "output_type": "execute_result"
    }
   ],
   "source": [
    "np.array_split(arr, 2)"
   ]
  },
  {
   "cell_type": "code",
   "execution_count": 13,
   "id": "29f1389d",
   "metadata": {},
   "outputs": [
    {
     "data": {
      "text/plain": [
       "[array([[1, 2]]),\n",
       " array([[3, 4]]),\n",
       " array([[5, 6]]),\n",
       " array([[7, 8]]),\n",
       " array([], shape=(0, 2), dtype=int32)]"
      ]
     },
     "execution_count": 13,
     "metadata": {},
     "output_type": "execute_result"
    }
   ],
   "source": [
    "np.array_split(arr, 5)"
   ]
  },
  {
   "cell_type": "code",
   "execution_count": 14,
   "id": "3be96aa8",
   "metadata": {},
   "outputs": [
    {
     "data": {
      "text/plain": [
       "[array([[1, 2]]),\n",
       " array([[3, 4]]),\n",
       " array([[5, 6]]),\n",
       " array([[7, 8]]),\n",
       " array([], shape=(0, 2), dtype=int32),\n",
       " array([], shape=(0, 2), dtype=int32),\n",
       " array([], shape=(0, 2), dtype=int32),\n",
       " array([], shape=(0, 2), dtype=int32),\n",
       " array([], shape=(0, 2), dtype=int32),\n",
       " array([], shape=(0, 2), dtype=int32)]"
      ]
     },
     "execution_count": 14,
     "metadata": {},
     "output_type": "execute_result"
    }
   ],
   "source": [
    "np.array_split(arr, 10)"
   ]
  },
  {
   "cell_type": "code",
   "execution_count": 16,
   "id": "75d3d037",
   "metadata": {},
   "outputs": [
    {
     "data": {
      "text/plain": [
       "[array([[1, 2],\n",
       "        [3, 4]]),\n",
       " array([[5, 6],\n",
       "        [7, 8]])]"
      ]
     },
     "execution_count": 16,
     "metadata": {},
     "output_type": "execute_result"
    }
   ],
   "source": [
    "np.array_split(arr, 2, axis=0)"
   ]
  },
  {
   "cell_type": "code",
   "execution_count": 18,
   "id": "273f66c4",
   "metadata": {},
   "outputs": [
    {
     "data": {
      "text/plain": [
       "[array([[1],\n",
       "        [3],\n",
       "        [5],\n",
       "        [7]]),\n",
       " array([[2],\n",
       "        [4],\n",
       "        [6],\n",
       "        [8]])]"
      ]
     },
     "execution_count": 18,
     "metadata": {},
     "output_type": "execute_result"
    }
   ],
   "source": [
    "np.array_split(arr, 2, axis=1)"
   ]
  },
  {
   "cell_type": "code",
   "execution_count": 19,
   "id": "8e148ba0",
   "metadata": {},
   "outputs": [
    {
     "data": {
      "text/plain": [
       "[array([[1, 2]]),\n",
       " array([[3, 4]]),\n",
       " array([[5, 6]]),\n",
       " array([[7, 8]]),\n",
       " array([], shape=(0, 2), dtype=int32),\n",
       " array([], shape=(0, 2), dtype=int32),\n",
       " array([], shape=(0, 2), dtype=int32),\n",
       " array([], shape=(0, 2), dtype=int32),\n",
       " array([], shape=(0, 2), dtype=int32),\n",
       " array([], shape=(0, 2), dtype=int32)]"
      ]
     },
     "execution_count": 19,
     "metadata": {},
     "output_type": "execute_result"
    }
   ],
   "source": [
    "np.array_split(arr, 10, axis=0)"
   ]
  },
  {
   "cell_type": "code",
   "execution_count": 20,
   "id": "85966680",
   "metadata": {},
   "outputs": [
    {
     "data": {
      "text/plain": [
       "[array([[1],\n",
       "        [3],\n",
       "        [5],\n",
       "        [7]]),\n",
       " array([[2],\n",
       "        [4],\n",
       "        [6],\n",
       "        [8]]),\n",
       " array([], shape=(4, 0), dtype=int32),\n",
       " array([], shape=(4, 0), dtype=int32),\n",
       " array([], shape=(4, 0), dtype=int32),\n",
       " array([], shape=(4, 0), dtype=int32),\n",
       " array([], shape=(4, 0), dtype=int32),\n",
       " array([], shape=(4, 0), dtype=int32),\n",
       " array([], shape=(4, 0), dtype=int32),\n",
       " array([], shape=(4, 0), dtype=int32)]"
      ]
     },
     "execution_count": 20,
     "metadata": {},
     "output_type": "execute_result"
    }
   ],
   "source": [
    "np.array_split(arr, 10, axis=1)"
   ]
  },
  {
   "cell_type": "code",
   "execution_count": null,
   "id": "b0f184ef",
   "metadata": {},
   "outputs": [],
   "source": []
  }
 ],
 "metadata": {
  "kernelspec": {
   "display_name": "Python 3 (ipykernel)",
   "language": "python",
   "name": "python3"
  },
  "language_info": {
   "codemirror_mode": {
    "name": "ipython",
    "version": 3
   },
   "file_extension": ".py",
   "mimetype": "text/x-python",
   "name": "python",
   "nbconvert_exporter": "python",
   "pygments_lexer": "ipython3",
   "version": "3.11.3"
  }
 },
 "nbformat": 4,
 "nbformat_minor": 5
}
