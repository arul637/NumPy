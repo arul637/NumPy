{
 "cells": [
  {
   "cell_type": "markdown",
   "id": "288a4c41",
   "metadata": {},
   "source": [
    "## Iterating Arrays\n",
    "\n",
    "*Iterating means going through elements one by one.*"
   ]
  },
  {
   "cell_type": "code",
   "execution_count": 1,
   "id": "513949b5",
   "metadata": {},
   "outputs": [],
   "source": [
    "# importing the module\n",
    "import numpy as np\n",
    "\n",
    "# creating the arrays\n",
    "arr1d = np.array([1, 2, 3, 4, 5, 6, 7, 8, 9, 0])\n",
    "arr2d = np.array([\n",
    "    [1, 2, 3, 4, 5],\n",
    "    [6, 7, 8, 9, 0]\n",
    "])\n",
    "arr3d = np.array([\n",
    "    [\n",
    "        [1, 2, 3],\n",
    "        [4, 5, 6]\n",
    "    ],\n",
    "    [\n",
    "        [7, 8, 9],\n",
    "        [10, 11, 12]\n",
    "    ]\n",
    "])"
   ]
  },
  {
   "cell_type": "markdown",
   "id": "3eddb483",
   "metadata": {},
   "source": [
    "### iterating 1D Array"
   ]
  },
  {
   "cell_type": "code",
   "execution_count": 5,
   "id": "53f5c2f7",
   "metadata": {},
   "outputs": [
    {
     "name": "stdout",
     "output_type": "stream",
     "text": [
      "1D arr :\n",
      "[1 2 3 4 5 6 7 8 9 0]\n",
      "\n",
      "Array items\n",
      "\n",
      "1 2 3 4 5 6 7 8 9 0 "
     ]
    }
   ],
   "source": [
    "print(f\"1D arr :\\n{arr1d}\")\n",
    "\n",
    "print(\"\\nArray items\\n\")\n",
    "for i in arr1d:\n",
    "    print(i, end=' ')"
   ]
  },
  {
   "cell_type": "markdown",
   "id": "e0dfd318",
   "metadata": {},
   "source": [
    "### iterating 2D Array"
   ]
  },
  {
   "cell_type": "code",
   "execution_count": 10,
   "id": "4ab50b70",
   "metadata": {},
   "outputs": [
    {
     "name": "stdout",
     "output_type": "stream",
     "text": [
      "2D arr: \n",
      "[[1 2 3 4 5]\n",
      " [6 7 8 9 0]]\n",
      "\n",
      "Array items\n",
      "\n",
      "[1 2 3 4 5] [6 7 8 9 0] \n",
      "\n",
      "Array items\n",
      "\n",
      "1 2 3 4 5 6 7 8 9 0 "
     ]
    }
   ],
   "source": [
    "print(f\"2D arr: \\n{arr2d}\")\n",
    "\n",
    "print(\"\\nArray items\\n\")\n",
    "for i in arr2d:\n",
    "    print(i, end=' ')\n",
    "    \n",
    "print(\"\\n\\nArray items\\n\")\n",
    "for i in arr2d:\n",
    "    for j in i:\n",
    "        print(j, end=' ')"
   ]
  },
  {
   "cell_type": "markdown",
   "id": "c09eab93",
   "metadata": {},
   "source": [
    "### iterating 3D Array"
   ]
  },
  {
   "cell_type": "code",
   "execution_count": 12,
   "id": "ca1a199f",
   "metadata": {},
   "outputs": [
    {
     "name": "stdout",
     "output_type": "stream",
     "text": [
      "3D arr: \n",
      "[[[ 1  2  3]\n",
      "  [ 4  5  6]]\n",
      "\n",
      " [[ 7  8  9]\n",
      "  [10 11 12]]]\n",
      "\n",
      "Array items\n",
      "\n",
      "[[1 2 3]\n",
      " [4 5 6]] [[ 7  8  9]\n",
      " [10 11 12]] \n",
      "\n",
      "Array items\n",
      "\n",
      "[1 2 3] [4 5 6] [7 8 9] [10 11 12] \n",
      "\n",
      "Array items\n",
      "\n",
      "1 2 3 4 5 6 7 8 9 10 11 12 "
     ]
    }
   ],
   "source": [
    "print(f\"3D arr: \\n{arr3d}\")\n",
    "\n",
    "print(\"\\nArray items\\n\")\n",
    "for i in arr3d:\n",
    "    print(i, end=' ')\n",
    "    \n",
    "print(\"\\n\\nArray items\\n\")\n",
    "for i in arr3d:\n",
    "    for j in i:\n",
    "        print(j, end=' ')\n",
    "        \n",
    "print(\"\\n\\nArray items\\n\")\n",
    "for i in arr3d:\n",
    "    for j in i:\n",
    "        for k in j:\n",
    "            print(k, end=' ')"
   ]
  },
  {
   "cell_type": "markdown",
   "id": "36226242",
   "metadata": {},
   "source": [
    "### Iterating Arrays Using nditer()\n",
    "\n",
    "*The function nditer() is a helping function that can be used from very basic to very advanced iterations. It solves some basic issues which we face in iteration, lets go through it with examples.*\n",
    "\n",
    "#### Iterating on Each `Scalar` Element\n",
    "\n",
    "In basic `for` loops, iterating through each scalar of an array we need to use '`n`' for loops which can be difficult to write for arrays with very high dimensionality."
   ]
  },
  {
   "cell_type": "code",
   "execution_count": 14,
   "id": "a7893bc8",
   "metadata": {},
   "outputs": [
    {
     "name": "stdout",
     "output_type": "stream",
     "text": [
      "[1 2 3 4 5 6 7 8 9 0]\n"
     ]
    }
   ],
   "source": [
    "print(arr1d)"
   ]
  },
  {
   "cell_type": "code",
   "execution_count": 16,
   "id": "ea522c77",
   "metadata": {},
   "outputs": [
    {
     "name": "stdout",
     "output_type": "stream",
     "text": [
      "1 2 3 4 5 6 7 8 9 0 "
     ]
    }
   ],
   "source": [
    "for i in np.nditer(arr1d):\n",
    "    print(i, end=' ')"
   ]
  },
  {
   "cell_type": "code",
   "execution_count": 17,
   "id": "6bd90b67",
   "metadata": {},
   "outputs": [
    {
     "name": "stdout",
     "output_type": "stream",
     "text": [
      "[[1 2 3 4 5]\n",
      " [6 7 8 9 0]]\n"
     ]
    }
   ],
   "source": [
    "print(arr2d)"
   ]
  },
  {
   "cell_type": "code",
   "execution_count": 18,
   "id": "b7d0d3a4",
   "metadata": {},
   "outputs": [
    {
     "name": "stdout",
     "output_type": "stream",
     "text": [
      "1 2 3 4 5 6 7 8 9 0 "
     ]
    }
   ],
   "source": [
    "for i in np.nditer(arr2d):\n",
    "    print(i, end=' ')"
   ]
  },
  {
   "cell_type": "code",
   "execution_count": 19,
   "id": "3daa1627",
   "metadata": {},
   "outputs": [
    {
     "name": "stdout",
     "output_type": "stream",
     "text": [
      "[[[ 1  2  3]\n",
      "  [ 4  5  6]]\n",
      "\n",
      " [[ 7  8  9]\n",
      "  [10 11 12]]]\n"
     ]
    }
   ],
   "source": [
    "print(arr3d)"
   ]
  },
  {
   "cell_type": "code",
   "execution_count": 20,
   "id": "20fb11fb",
   "metadata": {},
   "outputs": [
    {
     "name": "stdout",
     "output_type": "stream",
     "text": [
      "1 2 3 4 5 6 7 8 9 10 11 12 "
     ]
    }
   ],
   "source": [
    "for i in np.nditer(arr3d):\n",
    "    print(i, end=' ')"
   ]
  },
  {
   "cell_type": "code",
   "execution_count": 34,
   "id": "775b18d3",
   "metadata": {},
   "outputs": [
    {
     "name": "stdout",
     "output_type": "stream",
     "text": [
      "1.0,   \t2.0,   \t3.0,   \t"
     ]
    }
   ],
   "source": [
    "arr = np.array([1, 2, 3])\n",
    "\n",
    "for x in np.nditer(arr, flags=['buffered'], op_dtypes=[float]):\n",
    "    print(x, end=',   \\t')"
   ]
  },
  {
   "cell_type": "code",
   "execution_count": 36,
   "id": "ee8dc703",
   "metadata": {},
   "outputs": [
    {
     "name": "stdout",
     "output_type": "stream",
     "text": [
      "1\t3\t5\t7\t"
     ]
    }
   ],
   "source": [
    "arr = np.array([[1, 2, 3, 4], [5, 6, 7, 8]])\n",
    "\n",
    "for x in np.nditer(arr[:, ::2]):\n",
    "    print(x, end='\\t')"
   ]
  },
  {
   "cell_type": "markdown",
   "id": "45a992bf",
   "metadata": {},
   "source": [
    "### Enumerated Iteration Using ndenumerate()\n",
    "\n",
    "*Enumeration means mentioning sequence number of somethings one by one.*\n",
    "\n",
    "Sometimes we require corresponding index of the element while iterating, the '`ndenumerate()`' method can be used for those usecases."
   ]
  },
  {
   "cell_type": "code",
   "execution_count": 39,
   "id": "72e828c2",
   "metadata": {},
   "outputs": [
    {
     "name": "stdout",
     "output_type": "stream",
     "text": [
      "arr = [1 2 3 4 5 6 7 8 9 0]\n"
     ]
    }
   ],
   "source": [
    "arr = np.array([1, 2, 3, 4, 5, 6, 7, 8, 9, 0])\n",
    "print(f\"arr = {arr}\")"
   ]
  },
  {
   "cell_type": "code",
   "execution_count": 40,
   "id": "6d490616",
   "metadata": {},
   "outputs": [
    {
     "name": "stdout",
     "output_type": "stream",
     "text": [
      "(0,). 1\n",
      "(1,). 2\n",
      "(2,). 3\n",
      "(3,). 4\n",
      "(4,). 5\n",
      "(5,). 6\n",
      "(6,). 7\n",
      "(7,). 8\n",
      "(8,). 9\n",
      "(9,). 0\n"
     ]
    }
   ],
   "source": [
    "for index, value in np.ndenumerate(arr):\n",
    "    print(f\"{index}. {value}\")"
   ]
  },
  {
   "cell_type": "code",
   "execution_count": 41,
   "id": "a11eb158",
   "metadata": {},
   "outputs": [
    {
     "name": "stdout",
     "output_type": "stream",
     "text": [
      "arr = [[1 2 3]\n",
      " [4 5 6]\n",
      " [7 8 9]]\n"
     ]
    }
   ],
   "source": [
    "arr = np.array([\n",
    "    [1, 2, 3],\n",
    "    [4, 5, 6],\n",
    "    [7, 8, 9]\n",
    "])\n",
    "print(f\"arr = {arr}\")"
   ]
  },
  {
   "cell_type": "code",
   "execution_count": 42,
   "id": "9ad8930a",
   "metadata": {},
   "outputs": [
    {
     "name": "stdout",
     "output_type": "stream",
     "text": [
      "(0, 0). 1\n",
      "(0, 1). 2\n",
      "(0, 2). 3\n",
      "(1, 0). 4\n",
      "(1, 1). 5\n",
      "(1, 2). 6\n",
      "(2, 0). 7\n",
      "(2, 1). 8\n",
      "(2, 2). 9\n"
     ]
    }
   ],
   "source": [
    "for index, value in np.ndenumerate(arr):\n",
    "    print(f\"{index}. {value}\")"
   ]
  },
  {
   "cell_type": "code",
   "execution_count": null,
   "id": "791a97bd",
   "metadata": {},
   "outputs": [],
   "source": []
  }
 ],
 "metadata": {
  "kernelspec": {
   "display_name": "Python 3 (ipykernel)",
   "language": "python",
   "name": "python3"
  },
  "language_info": {
   "codemirror_mode": {
    "name": "ipython",
    "version": 3
   },
   "file_extension": ".py",
   "mimetype": "text/x-python",
   "name": "python",
   "nbconvert_exporter": "python",
   "pygments_lexer": "ipython3",
   "version": "3.11.3"
  }
 },
 "nbformat": 4,
 "nbformat_minor": 5
}
