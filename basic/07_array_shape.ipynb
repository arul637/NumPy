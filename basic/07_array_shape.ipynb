{
 "cells": [
  {
   "cell_type": "markdown",
   "id": "6c1ad2aa",
   "metadata": {},
   "source": [
    "## Shape of an Array\n",
    "\n",
    "*The shape of an array is the number of elements in each dimension.*\n",
    "\n",
    "***to get shape of array*** use `shape` keyword"
   ]
  },
  {
   "cell_type": "code",
   "execution_count": 2,
   "id": "7a82e63c",
   "metadata": {},
   "outputs": [],
   "source": [
    "# importing the modules\n",
    "import numpy as np\n",
    "\n",
    "# creating the array\n",
    "arr = np.array([1, 2, 3, 4, 5, 6, 7, 8, 9, 0])\n",
    "arr1 = np.array([\n",
    "    [1, 2, 3, 4, 5],\n",
    "    [6, 7, 8, 9, 0]\n",
    "])\n",
    "arr2 = np.array([\n",
    "    [\n",
    "        [1, 2, 3]\n",
    "    ],\n",
    "    [\n",
    "        [4, 5, 5]\n",
    "    ]\n",
    "])"
   ]
  },
  {
   "cell_type": "code",
   "execution_count": 3,
   "id": "4f38eba5",
   "metadata": {},
   "outputs": [
    {
     "name": "stdout",
     "output_type": "stream",
     "text": [
      "arr = [1 2 3 4 5 6 7 8 9 0]\n",
      "arr.shape = (10,)\n"
     ]
    }
   ],
   "source": [
    "print(f\"arr = {arr}\")\n",
    "print(f\"arr.shape = {arr.shape}\")"
   ]
  },
  {
   "cell_type": "code",
   "execution_count": 4,
   "id": "0cae982f",
   "metadata": {},
   "outputs": [
    {
     "name": "stdout",
     "output_type": "stream",
     "text": [
      "arr1 = [[1 2 3 4 5]\n",
      " [6 7 8 9 0]]\n",
      "arr1.shape = (2, 5)\n"
     ]
    }
   ],
   "source": [
    "print(f\"arr1 = {arr1}\")\n",
    "print(f\"arr1.shape = {arr1.shape}\")"
   ]
  },
  {
   "cell_type": "code",
   "execution_count": 5,
   "id": "0efee84d",
   "metadata": {},
   "outputs": [
    {
     "name": "stdout",
     "output_type": "stream",
     "text": [
      "arr2 = [[[1 2 3]]\n",
      "\n",
      " [[4 5 5]]]\n",
      "arr2.shape = (2, 1, 3)\n"
     ]
    }
   ],
   "source": [
    "print(f\"arr2 = {arr2}\")\n",
    "print(f\"arr2.shape = {arr2.shape}\")"
   ]
  },
  {
   "cell_type": "code",
   "execution_count": 7,
   "id": "f2f6351b",
   "metadata": {},
   "outputs": [],
   "source": [
    "# creating the new array with specific dimension\n",
    "arr = np.array([1, 2, 3, 4, 5], ndmin=10)"
   ]
  },
  {
   "cell_type": "code",
   "execution_count": 8,
   "id": "b1270c88",
   "metadata": {},
   "outputs": [
    {
     "name": "stdout",
     "output_type": "stream",
     "text": [
      "arr = [[[[[[[[[[1 2 3 4 5]]]]]]]]]]\n",
      "arr.shape = (1, 1, 1, 1, 1, 1, 1, 1, 1, 5)\n"
     ]
    }
   ],
   "source": [
    "print(f\"arr = {arr}\")\n",
    "print(f\"arr.shape = {arr.shape}\")"
   ]
  },
  {
   "cell_type": "code",
   "execution_count": null,
   "id": "b0ac2eae",
   "metadata": {},
   "outputs": [],
   "source": []
  }
 ],
 "metadata": {
  "kernelspec": {
   "display_name": "Python 3 (ipykernel)",
   "language": "python",
   "name": "python3"
  },
  "language_info": {
   "codemirror_mode": {
    "name": "ipython",
    "version": 3
   },
   "file_extension": ".py",
   "mimetype": "text/x-python",
   "name": "python",
   "nbconvert_exporter": "python",
   "pygments_lexer": "ipython3",
   "version": "3.11.3"
  }
 },
 "nbformat": 4,
 "nbformat_minor": 5
}
