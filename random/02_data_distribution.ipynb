{
 "cells": [
  {
   "cell_type": "markdown",
   "id": "ede7486f",
   "metadata": {},
   "source": [
    "### What is Data Distribution?\n",
    "\n",
    "Data Distribution is a list of all possible values, and how often each value occurs.  Such lists are important when working with statistics and data science.\n",
    "The random module offer methods that returns randomly generated data distributions.\n",
    "\n",
    "### Random Distribution\n",
    "\n",
    "A random distribution is a set of random numbers that follow a certain ***probability density function.***"
   ]
  },
  {
   "cell_type": "code",
   "execution_count": 1,
   "id": "2e4b2b58",
   "metadata": {},
   "outputs": [],
   "source": [
    "# importing the modules\n",
    "import numpy as np\n",
    "from numpy import random"
   ]
  },
  {
   "cell_type": "code",
   "execution_count": 3,
   "id": "1a0c7a44",
   "metadata": {},
   "outputs": [
    {
     "data": {
      "text/plain": [
       "array([4, 1, 1, 4, 2, 4, 4, 2, 2, 4])"
      ]
     },
     "execution_count": 3,
     "metadata": {},
     "output_type": "execute_result"
    }
   ],
   "source": [
    "array = np.array([1, 2, 3, 4, 5])\n",
    "random.choice(array, size=10, p=[0.2, 0.4, 0.0, 0.4, 0.0])"
   ]
  },
  {
   "cell_type": "markdown",
   "id": "5abdee2d",
   "metadata": {},
   "source": [
    "here probability for 1 is 0.2 (2 numbers) and 3 and 5 are 0, this means there is no `3 and 5` in the array. "
   ]
  },
  {
   "cell_type": "code",
   "execution_count": null,
   "id": "161ff7f5",
   "metadata": {},
   "outputs": [],
   "source": []
  }
 ],
 "metadata": {
  "kernelspec": {
   "display_name": "Python 3 (ipykernel)",
   "language": "python",
   "name": "python3"
  },
  "language_info": {
   "codemirror_mode": {
    "name": "ipython",
    "version": 3
   },
   "file_extension": ".py",
   "mimetype": "text/x-python",
   "name": "python",
   "nbconvert_exporter": "python",
   "pygments_lexer": "ipython3",
   "version": "3.11.3"
  }
 },
 "nbformat": 4,
 "nbformat_minor": 5
}
