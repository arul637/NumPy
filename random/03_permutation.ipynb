{
 "cells": [
  {
   "cell_type": "markdown",
   "id": "4370c146",
   "metadata": {},
   "source": [
    "### Random Permutations of Elements\n",
    "\n",
    "A permutation refers to an arrangement of elements. e.g. [3, 2, 1] is a permutation of [1, 2, 3] and vice-versa."
   ]
  },
  {
   "cell_type": "code",
   "execution_count": 1,
   "id": "60061769",
   "metadata": {},
   "outputs": [],
   "source": [
    "# importing the modules\n",
    "import numpy as np\n",
    "from numpy import random"
   ]
  },
  {
   "cell_type": "code",
   "execution_count": 2,
   "id": "b1ff4548",
   "metadata": {},
   "outputs": [
    {
     "name": "stdout",
     "output_type": "stream",
     "text": [
      "array: [1 2 3 4 5 6 7 8 9 0]\n"
     ]
    }
   ],
   "source": [
    "array = np.array([1, 2, 3, 4, 5, 6, 7, 8, 9, 0])\n",
    "print(f\"array: {array}\")"
   ]
  },
  {
   "cell_type": "markdown",
   "id": "678b7242",
   "metadata": {},
   "source": [
    "### shuffle array\n",
    "\n",
    "this means arrange the elements of array changed by self in positions"
   ]
  },
  {
   "cell_type": "code",
   "execution_count": 9,
   "id": "5acc7d33",
   "metadata": {},
   "outputs": [
    {
     "name": "stdout",
     "output_type": "stream",
     "text": [
      "[7 9 2 8 4 6 5 3 1 0]\n"
     ]
    }
   ],
   "source": [
    "random.shuffle(array)\n",
    "print(array)"
   ]
  },
  {
   "cell_type": "markdown",
   "id": "6976c7ab",
   "metadata": {},
   "source": [
    "### permutation()\n",
    "\n",
    "permutation return the rearranged array, rather it dosen't change the original array"
   ]
  },
  {
   "cell_type": "code",
   "execution_count": 13,
   "id": "5f865536",
   "metadata": {},
   "outputs": [
    {
     "name": "stdout",
     "output_type": "stream",
     "text": [
      "array: [7 9 2 8 4 6 5 3 1 0]\n",
      "permutation: [8 9 0 1 4 6 5 2 3 7]\n"
     ]
    }
   ],
   "source": [
    "print(f\"array: {array}\")\n",
    "print(f\"permutation: {random.permutation(array)}\")"
   ]
  },
  {
   "cell_type": "code",
   "execution_count": 15,
   "id": "aea276a3",
   "metadata": {},
   "outputs": [
    {
     "name": "stdout",
     "output_type": "stream",
     "text": [
      "array: [7 9 2 8 4 6 5 3 1 0]\n",
      "permutation: [4 3 9 5 8 1 0 2 7 6]\n"
     ]
    }
   ],
   "source": [
    "print(f\"array: {array}\")\n",
    "print(f\"permutation: {random.permutation(array)}\")"
   ]
  },
  {
   "cell_type": "code",
   "execution_count": 16,
   "id": "7f9db44b",
   "metadata": {},
   "outputs": [
    {
     "name": "stdout",
     "output_type": "stream",
     "text": [
      "array: [7 9 2 8 4 6 5 3 1 0]\n",
      "permutation: [0 3 9 5 7 4 1 2 6 8]\n"
     ]
    }
   ],
   "source": [
    "print(f\"array: {array}\")\n",
    "print(f\"permutation: {random.permutation(array)}\")"
   ]
  }
 ],
 "metadata": {
  "kernelspec": {
   "display_name": "Python 3 (ipykernel)",
   "language": "python",
   "name": "python3"
  },
  "language_info": {
   "codemirror_mode": {
    "name": "ipython",
    "version": 3
   },
   "file_extension": ".py",
   "mimetype": "text/x-python",
   "name": "python",
   "nbconvert_exporter": "python",
   "pygments_lexer": "ipython3",
   "version": "3.11.3"
  }
 },
 "nbformat": 4,
 "nbformat_minor": 5
}
