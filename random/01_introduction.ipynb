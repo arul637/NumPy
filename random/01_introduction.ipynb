{
 "cells": [
  {
   "cell_type": "markdown",
   "id": "2fbda025",
   "metadata": {},
   "source": [
    "### Random Number\n",
    "\n",
    "Random number does `NOT` mean a different number every time. Random means something that can not be predicted logically.\n",
    "\n",
    "If there is a program to generate random number it can be predicted, thus it is not truly random.  Random numbers generated through a generation algorithm are called `pseudo random`."
   ]
  },
  {
   "cell_type": "code",
   "execution_count": 1,
   "id": "102f0da8",
   "metadata": {},
   "outputs": [],
   "source": [
    "# importing the modules\n",
    "from numpy import random"
   ]
  },
  {
   "cell_type": "code",
   "execution_count": 43,
   "id": "b118f504",
   "metadata": {},
   "outputs": [
    {
     "data": {
      "text/plain": [
       "8"
      ]
     },
     "execution_count": 43,
     "metadata": {},
     "output_type": "execute_result"
    }
   ],
   "source": [
    "# random.seed(seed=10)  # fixed random number\n",
    "random.randint(100)   # generate random number between 0 to 100"
   ]
  },
  {
   "cell_type": "markdown",
   "id": "6259127b",
   "metadata": {},
   "source": [
    "### generate random float\n",
    "\n",
    "*`rand()`* to generate random number between `0` to `1`."
   ]
  },
  {
   "cell_type": "code",
   "execution_count": 56,
   "id": "5001c233",
   "metadata": {},
   "outputs": [
    {
     "data": {
      "text/plain": [
       "0.1314581524025229"
      ]
     },
     "execution_count": 56,
     "metadata": {},
     "output_type": "execute_result"
    }
   ],
   "source": [
    "random.rand()"
   ]
  },
  {
   "cell_type": "markdown",
   "id": "413e6c7c",
   "metadata": {},
   "source": [
    "### generate random array\n",
    "\n",
    "`randint(size=<value>)`, by specifing size we can generate the random number with the particular size"
   ]
  },
  {
   "cell_type": "code",
   "execution_count": 57,
   "id": "05276401",
   "metadata": {},
   "outputs": [
    {
     "data": {
      "text/plain": [
       "array([25, 13, 92])"
      ]
     },
     "execution_count": 57,
     "metadata": {},
     "output_type": "execute_result"
    }
   ],
   "source": [
    "random.randint(100, size=3)"
   ]
  },
  {
   "cell_type": "code",
   "execution_count": 58,
   "id": "b77b871a",
   "metadata": {},
   "outputs": [
    {
     "data": {
      "text/plain": [
       "array([[86, 30, 30, 89],\n",
       "       [12, 65, 31, 57],\n",
       "       [36, 27, 18, 93]])"
      ]
     },
     "execution_count": 58,
     "metadata": {},
     "output_type": "execute_result"
    }
   ],
   "source": [
    "random.randint(100, size=(3,4))"
   ]
  },
  {
   "cell_type": "code",
   "execution_count": 65,
   "id": "e30ea766",
   "metadata": {},
   "outputs": [
    {
     "data": {
      "text/plain": [
       "array([[[316, 826, 397, 360, 515],\n",
       "        [927, 204, 471, 145, 925],\n",
       "        [453, 690, 563, 660,   5]],\n",
       "\n",
       "       [[247, 876, 710, 189, 232],\n",
       "        [912, 714, 644, 918, 787],\n",
       "        [597, 713, 291, 632, 291]],\n",
       "\n",
       "       [[112, 267, 553, 310, 978],\n",
       "        [ 19, 297, 977, 701, 394],\n",
       "        [ 36, 512, 251, 158, 830]]])"
      ]
     },
     "execution_count": 65,
     "metadata": {},
     "output_type": "execute_result"
    }
   ],
   "source": [
    "random.randint(1000, size=(3,3,5))"
   ]
  },
  {
   "cell_type": "code",
   "execution_count": 66,
   "id": "855b5628",
   "metadata": {},
   "outputs": [
    {
     "data": {
      "text/plain": [
       "array([0.38327255, 0.37293851, 0.84268187, 0.75929648])"
      ]
     },
     "execution_count": 66,
     "metadata": {},
     "output_type": "execute_result"
    }
   ],
   "source": [
    "random.rand(4)"
   ]
  },
  {
   "cell_type": "code",
   "execution_count": 67,
   "id": "b5e3d5f3",
   "metadata": {},
   "outputs": [
    {
     "data": {
      "text/plain": [
       "array([[0.16578251, 0.75415633, 0.59599393, 0.92680887, 0.41509918],\n",
       "       [0.096856  , 0.89615323, 0.70994789, 0.42300565, 0.29536986],\n",
       "       [0.17858845, 0.92849589, 0.27804976, 0.44770886, 0.60987356],\n",
       "       [0.36078961, 0.44524562, 0.04426012, 0.24749552, 0.46513333]])"
      ]
     },
     "execution_count": 67,
     "metadata": {},
     "output_type": "execute_result"
    }
   ],
   "source": [
    "random.rand(4,5)"
   ]
  },
  {
   "cell_type": "code",
   "execution_count": 71,
   "id": "7a139604",
   "metadata": {},
   "outputs": [
    {
     "data": {
      "text/plain": [
       "array([[[[0.44635669, 0.78584648, 0.64678937, 0.5495224 , 0.34564861],\n",
       "         [0.52217929, 0.36679444, 0.74720328, 0.64822174, 0.90574915],\n",
       "         [0.55969172, 0.42508364, 0.1146976 , 0.56854262, 0.40878495]],\n",
       "\n",
       "        [[0.7228984 , 0.26685576, 0.77733783, 0.09475754, 0.27389181],\n",
       "         [0.12651792, 0.42464669, 0.16477692, 0.65249946, 0.05259622],\n",
       "         [0.48449566, 0.01132124, 0.7456891 , 0.07168884, 0.48695313]]],\n",
       "\n",
       "\n",
       "       [[[0.20318947, 0.12944777, 0.29030584, 0.42050569, 0.0652428 ],\n",
       "         [0.27903258, 0.66124785, 0.1413616 , 0.71291049, 0.22067297],\n",
       "         [0.60515121, 0.33392155, 0.98468893, 0.43709774, 0.34437644]],\n",
       "\n",
       "        [[0.27194932, 0.3527696 , 0.04638431, 0.08828385, 0.58547547],\n",
       "         [0.43541927, 0.8669032 , 0.6445433 , 0.1346363 , 0.60106483],\n",
       "         [0.66068736, 0.61098073, 0.28289718, 0.37815687, 0.26566612]]]])"
      ]
     },
     "execution_count": 71,
     "metadata": {},
     "output_type": "execute_result"
    }
   ],
   "source": [
    "random.rand(2,2,3,5)"
   ]
  },
  {
   "cell_type": "markdown",
   "id": "036cc984",
   "metadata": {},
   "source": [
    "### generate random number from the array\n",
    "\n",
    "The `choice()` method allows you to generate a random value based on an array of values.  The `choice()` method takes an array as a parameter and randomly returns one of the values."
   ]
  },
  {
   "cell_type": "code",
   "execution_count": 152,
   "id": "3525cfcd",
   "metadata": {},
   "outputs": [
    {
     "data": {
      "text/plain": [
       "5"
      ]
     },
     "execution_count": 152,
     "metadata": {},
     "output_type": "execute_result"
    }
   ],
   "source": [
    "import numpy as np\n",
    "\n",
    "array = np.array([1, 2, 3, 4, 5, 6, 7, 8, 9, 0])\n",
    "\n",
    "random.choice(array)"
   ]
  },
  {
   "cell_type": "code",
   "execution_count": 154,
   "id": "ceb09c90",
   "metadata": {},
   "outputs": [
    {
     "data": {
      "text/plain": [
       "array([[2, 0, 9, 2, 6, 6],\n",
       "       [1, 2, 8, 8, 9, 5],\n",
       "       [3, 6, 6, 5, 3, 5],\n",
       "       [7, 4, 7, 2, 9, 7],\n",
       "       [2, 6, 1, 0, 0, 3]])"
      ]
     },
     "execution_count": 154,
     "metadata": {},
     "output_type": "execute_result"
    }
   ],
   "source": [
    "random.choice(array, size=(5,6))"
   ]
  },
  {
   "cell_type": "code",
   "execution_count": null,
   "id": "81f94366",
   "metadata": {},
   "outputs": [],
   "source": []
  }
 ],
 "metadata": {
  "kernelspec": {
   "display_name": "Python 3 (ipykernel)",
   "language": "python",
   "name": "python3"
  },
  "language_info": {
   "codemirror_mode": {
    "name": "ipython",
    "version": 3
   },
   "file_extension": ".py",
   "mimetype": "text/x-python",
   "name": "python",
   "nbconvert_exporter": "python",
   "pygments_lexer": "ipython3",
   "version": "3.11.3"
  }
 },
 "nbformat": 4,
 "nbformat_minor": 5
}
